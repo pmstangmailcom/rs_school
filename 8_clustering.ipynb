{
 "cells": [
  {
   "cell_type": "markdown",
   "metadata": {},
   "source": [
    "Each task that is proposed to be completed as part of the homework has a declared \"price\" in points. The maximum possible amount is 10 points, and together with the bonus assignment - 12 points. It is not necessary to complete all the tasks, only a part can be done. Most of the points expect you to write working Python code; sometimes you will need to write comments - for example, to compare several approaches to solve the same problem. Also you can add more cells for your convenience if you need."
   ]
  },
  {
   "cell_type": "markdown",
   "metadata": {},
   "source": [
    "This homework focuses on clustering. We will work with images of handwritten digits, learn how to cluster them using two different methods (hierarchical clustering and the 𝐾-means algorithm), evaluate the quality of the partition and choose the optimal number of clusters, as well as visualize intermediate results."
   ]
  },
  {
   "cell_type": "markdown",
   "metadata": {},
   "source": [
    "## 1. Loading data\n",
    "The data we will be working with is available in the scikit-learn library (`sklearn` module) in the `datasets` submodule via the `load_digits` function. The data contains 1,797 observations, each of which is 8×8 pixel image of a handwritten digit from 0 to 9. This is about the same amount of each digit (about 180).\n",
    "\n",
    "For convenience, every image expands to a 64 (8×8) row, so entire numpy array is 1797×64. The color intensity in each pixel is encoded with an integer from 0 to 16.\n",
    "\n",
    "In addition to images, their labels are also known. In this task, we will assume that the labels (as well as their amount) are unknown and try to group the data in such a way that the resulting clusters 'better match' the original ones. Possible options for determining the 'better match' are presented later."
   ]
  },
  {
   "cell_type": "markdown",
   "metadata": {},
   "source": [
    "**(0.25 points)** Load the images into `X` variable, and their labels into `y` variable."
   ]
  },
  {
   "cell_type": "code",
   "execution_count": 1,
   "metadata": {},
   "outputs": [],
   "source": [
    "import numpy as np\n",
    "import seaborn as sns\n",
    "import matplotlib.pyplot as plt\n",
    "\n",
    "from sklearn.cluster import AgglomerativeClustering, KMeans\n",
    "\n",
    "from sklearn.decomposition import TruncatedSVD\n",
    "\n",
    "from sklearn.model_selection import GridSearchCV\n",
    "from sklearn.metrics import silhouette_score, v_measure_score\n",
    "\n",
    "from sklearn.datasets import load_digits\n"
   ]
  },
  {
   "cell_type": "code",
   "execution_count": 2,
   "metadata": {},
   "outputs": [],
   "source": [
    "digits = load_digits()\n",
    "X = digits.data\n",
    "y = digits.target"
   ]
  },
  {
   "cell_type": "code",
   "execution_count": 3,
   "metadata": {},
   "outputs": [],
   "source": [
    "assert X.shape == (1797, 64)\n",
    "assert y.shape == (1797,)"
   ]
  },
  {
   "cell_type": "code",
   "execution_count": null,
   "metadata": {},
   "outputs": [],
   "source": []
  },
  {
   "cell_type": "markdown",
   "metadata": {},
   "source": [
    "**(0.5 points)** Visualize the first 10 images.\n",
    "\n",
    "- Arrange images on a grid rather than in a row. You may need the `subplot` and `imshow` functions from the `pyplot` module in the `matplotlib` library.\n",
    "- You will also need to reshape the images to 8×8.\n",
    "- Remove ticks and labels from both axes. The `xticks` and `yticks` functions or the `tick_params` function from `pyplot` can help you with this.\n",
    "- Make the output good sized with the `figure` function from `pyplot`."
   ]
  },
  {
   "cell_type": "code",
   "execution_count": 4,
   "metadata": {},
   "outputs": [
    {
     "data": {
      "text/plain": [
       "Text(0.5, 0.98, 'First ten images')"
      ]
     },
     "execution_count": 4,
     "metadata": {},
     "output_type": "execute_result"
    },
    {
     "data": {
      "image/png": "[encoded data removed]",
      "text/plain": [
       "<Figure size 1152x432 with 10 Axes>"
      ]
     },
     "metadata": {
      "needs_background": "light"
     },
     "output_type": "display_data"
    }
   ],
   "source": [
    "\n",
    "plt.figure(figsize=(16, 6))\n",
    "for i in range(10):\n",
    "    plt.subplot(2, 5, i + 1)\n",
    "    plt.imshow(X[i, :].reshape([8, 8]),\n",
    "#                cmap=\"gray\"\n",
    "              );\n",
    "plt.suptitle(\"First ten images\")"
   ]
  },
  {
   "cell_type": "markdown",
   "metadata": {},
   "source": [
    "## 2. Clustering and quality evaluation"
   ]
  },
  {
   "cell_type": "markdown",
   "metadata": {},
   "source": [
    "**(2 points)** Implement the the KMeans algorithm. Use objective function $L = \\sum_{i=1}^{n}|x_{i}-Z_{A(x_{i})}|^{2}$, where $Z_{A(x_{i})}$ is the center of the cluster corresponding to $x_{i}$ object."
   ]
  },
  {
   "cell_type": "code",
   "execution_count": 5,
   "metadata": {},
   "outputs": [],
   "source": [
    "from sklearn.exceptions import NotFittedError\n",
    "from numpy.random import RandomState"
   ]
  },
  {
   "cell_type": "code",
   "execution_count": 6,
   "metadata": {},
   "outputs": [],
   "source": [
    "from numpy.linalg import norm"
   ]
  },
  {
   "cell_type": "code",
   "execution_count": 7,
   "metadata": {},
   "outputs": [],
   "source": [
    "\n",
    "class CustomKMeans:\n",
    "    def __init__(self, n_clusters=2, max_iter=30, n_init=10, random_state=42):\n",
    "        '''K-Means clustering.\n",
    "        \n",
    "        Args:\n",
    "            n_clusters: int, default=2\n",
    "                The number of clusters to be formed is also \n",
    "                the number of centroids to generate. \n",
    "            max_iter: int, default=300\n",
    "                Maximum number of iterations of the k-means algorithm for a\n",
    "                single run.\n",
    "            n_init: int, default=10\n",
    "                Number of time the k-means algorithm will be run with different\n",
    "                centroid seeds. The final results will be the best output of\n",
    "                n_init consecutive runs in terms of objective function.\n",
    "            random_state: int, default=42\n",
    "                Random state.\n",
    "        '''\n",
    "        self.n_clusters = n_clusters\n",
    "        self.n_init = n_init\n",
    "        self.max_iter = max_iter\n",
    "        self.random_state = RandomState(seed=random_state)\n",
    "        \n",
    "    def calculate_distances_to_centroids(self, X, cluster_centers):\n",
    "        \"\"\"\n",
    "        Returns (n, c) matrix where the element at position (i, j) \n",
    "        is the distance from i-th object to j-th centroid.\"\"\"\n",
    "        # <your code>\n",
    "        \n",
    "        distance = np.zeros((X.shape[0], self.n_clusters))\n",
    "        for i in range(self.n_clusters):\n",
    "            row_norm = norm(X - cluster_centers[i, :], axis=1)\n",
    "            distance[:, i] = np.square(row_norm)\n",
    "        return distance\n",
    "\n",
    "    \n",
    "    def update_centroids(self, X, nearest_clusters):\n",
    "        \"\"\"\n",
    "        Returns numpy array of shape (n_clusters, n_features) - \n",
    "        new clusters that are found by averaging objects belonging \n",
    "        to the corresponding cluster.\"\"\"\n",
    "        # <your code>\n",
    "\n",
    "        centers=np.zeros((self.n_clusters,X.shape[1]))\n",
    "        for i in range(self.n_clusters):\n",
    "            centers[i,:]=np.mean(X[nearest_clusters==i], axis=0)\n",
    "        return centers\n",
    "    \n",
    "\n",
    "    def compute_L(self, X, nearest_clusters, centroids):\n",
    "        distance = np.zeros(X.shape[0])\n",
    "        for i in range(self.n_clusters):\n",
    "            distance[nearest_clusters == i] = norm(X[nearest_clusters == i] - centroids[i], axis=1)\n",
    "        return np.sum(np.square(distance))\n",
    "    \n",
    "    \n",
    "    def fit(self, X):\n",
    "        \"\"\"Fit the model.\n",
    "        \n",
    "        Args:\n",
    "            X: numpy array of shape (n_samples, n_features)\n",
    "        \"\"\"\n",
    "        assert X.shape[0] >= self.n_clusters\n",
    "        # <your code>\n",
    "        \n",
    "        self.cluster_centers_ = X[np.random.choice(np.arange(X.shape[0]),self.n_clusters)]\n",
    "        for i in range(self.max_iter):\n",
    "            old_centroids = self.cluster_centers_\n",
    "            distance = self.calculate_distances_to_centroids(X, old_centroids)\n",
    "            self.nearest_clusters = np.argmin(distance, axis=1)\n",
    "            self.centroids = self.update_centroids(X, self.nearest_clusters)\n",
    "            if np.all(old_centroids == self.cluster_centers_):\n",
    "                break\n",
    "        self.L = self.compute_L(X, self.nearest_clusters, self.cluster_centers_)\n",
    "#         print('L: ', self.L)\n",
    "        \n",
    "        \n",
    "    def predict(self, X):\n",
    "        \"\"\"Predict classes.\n",
    "        \n",
    "        Args:\n",
    "            X: numpy array of shape (n_samples, n_features)\n",
    "        Returns:\n",
    "            y: numpy array of shape (n_samples,)\n",
    "                Vector containing predicted cluster labels.\n",
    "        \"\"\"\n",
    "        if hasattr(self, 'cluster_centers_'):\n",
    "            # <your code>\n",
    "            \n",
    "            distance=self.calculate_distances_to_centroids(X,self.cluster_centers_)\n",
    "            return np.argmin(distance,axis=1)\n",
    "        else: \n",
    "            raise NotFittedError(\"CustomKMeans instance is not fitted yet\")"
   ]
  },
  {
   "cell_type": "markdown",
   "metadata": {},
   "source": [
    "**(1 points)** Get the `X` array partition into 10 clusters. Visualize the centers of clusters.\n",
    "- We will assume that the center of the cluster is average value of all observations belonging to the cluster.\n",
    "- The cluster centers should have the same shape as our observations (64). So you have to average the points across the rows."
   ]
  },
  {
   "cell_type": "code",
   "execution_count": 8,
   "metadata": {},
   "outputs": [],
   "source": [
    "custom_kmeans=CustomKMeans(n_clusters=10)\n",
    "custom_kmeans.fit(X)\n",
    "custom_kmeans_labels = custom_kmeans.predict(X)\n",
    "assert custom_kmeans_labels.shape == (1797,)"
   ]
  },
  {
   "cell_type": "code",
   "execution_count": 9,
   "metadata": {},
   "outputs": [
    {
     "data": {
      "text/plain": [
       "Text(0.5, 0.98, 'Visualize the centers of clusters')"
      ]
     },
     "execution_count": 9,
     "metadata": {},
     "output_type": "execute_result"
    },
    {
     "data": {
      "image/png": "[encoded data removed]",
      "text/plain": [
       "<Figure size 1152x432 with 10 Axes>"
      ]
     },
     "metadata": {
      "needs_background": "light"
     },
     "output_type": "display_data"
    }
   ],
   "source": [
    "centers=custom_kmeans.cluster_centers_\n",
    "plt.figure(figsize=(16, 6))\n",
    "for i in range(10):\n",
    "    plt.subplot(2, 5, i + 1)\n",
    "    plt.imshow(centers[i, :].reshape([8, 8]),\n",
    "#                cmap=\"gray\"\n",
    "              );\n",
    "plt.suptitle(\"Visualize the centers of clusters\")"
   ]
  },
  {
   "cell_type": "markdown",
   "metadata": {},
   "source": [
    "**(0.5 points)** Experiment with `max_iter` and `n_init` parameters. Look at the range of values of the objective function, it's best values, at what parameters and how often they are achieved."
   ]
  },
  {
   "cell_type": "code",
   "execution_count": 10,
   "metadata": {},
   "outputs": [
    {
     "name": "stderr",
     "output_type": "stream",
     "text": [
      "C:\\Users\\churi\\anaconda3\\lib\\site-packages\\numpy\\core\\fromnumeric.py:3419: RuntimeWarning: Mean of empty slice.\n",
      "  return _methods._mean(a, axis=axis, dtype=dtype,\n",
      "C:\\Users\\churi\\anaconda3\\lib\\site-packages\\numpy\\core\\_methods.py:180: RuntimeWarning: invalid value encountered in true_divide\n",
      "  ret = um.true_divide(\n"
     ]
    },
    {
     "name": "stdout",
     "output_type": "stream",
     "text": [
      "Min objective function at max_iter=260, n_init=2\n"
     ]
    }
   ],
   "source": [
    "max_iters = np.arange(20,400,20)\n",
    "n_inits = np.arange(2,15,2)\n",
    "\n",
    "L_init = []\n",
    "L_max_iter = []\n",
    "\n",
    "best_params = []\n",
    "for i in max_iters:\n",
    "    for j in n_inits:\n",
    "        model=CustomKMeans(n_clusters=10, max_iter=i, n_init=j, random_state=42)\n",
    "        model.fit(X)\n",
    "        best_params.append((i,j, model.L))\n",
    "        L_init.append(model.L)\n",
    "        \n",
    "best_params.sort(key=lambda x: x[2])\n",
    "print(f'Min objective function at max_iter={best_params[0][0]}, n_init={best_params[0][1]}')\n"
   ]
  },
  {
   "cell_type": "code",
   "execution_count": null,
   "metadata": {},
   "outputs": [],
   "source": []
  },
  {
   "cell_type": "markdown",
   "metadata": {},
   "source": [
    "Now we will use two popular algorithms: hierarchical clustering and $K$-means clustering. These and other algorithms are available in the `scikit-learn` module in the `cluster` submodule. Hierarchical clustering is called `AgglomerativeClustering`, and the $K$-means method is called `KMeans`.\n",
    "\n",
    "**(0.5 points)** Use each of the two methods: hierarchical clustering and KMeans. Get the `X` array partition into 10 clusters.\n",
    "\n",
    "- Note that `AgglomerativeClustering` does not have a `predict` method, so you can either use the `fit_predict` method or use the `fit` method and then look at the `labels_` attribute of the class instance.\n",
    "- Kmeans performs multiple runs (default 10) with random centers and then returns the best partition in terms of average distance within the clusters. You can increase the number of runs to improve the quality of predictions in the `i_init` parameter."
   ]
  },
  {
   "cell_type": "code",
   "execution_count": 11,
   "metadata": {},
   "outputs": [],
   "source": [
    "hierarchical_model = AgglomerativeClustering(n_clusters=10)\n",
    "yh = hierarchical_model.fit_predict(X)\n",
    "hierarchical_labels = hierarchical_model.labels_\n",
    "clusters_h = np.unique(yh)\n",
    "\n",
    "\n",
    "kmeans = KMeans(n_clusters=10)\n",
    "kmeans.fit(X)\n",
    "kmeans_labels = kmeans.labels_\n",
    "kmeans_centers=kmeans.cluster_centers_"
   ]
  },
  {
   "cell_type": "code",
   "execution_count": 12,
   "metadata": {},
   "outputs": [],
   "source": [
    "assert hierarchical_labels.shape == (1797,)\n",
    "assert kmeans_labels.shape == (1797,)"
   ]
  },
  {
   "cell_type": "markdown",
   "metadata": {},
   "source": [
    "**(0.5 points)** Visualize the centers of clusters obtained by both methods."
   ]
  },
  {
   "cell_type": "code",
   "execution_count": 13,
   "metadata": {},
   "outputs": [
    {
     "data": {
      "image/png": "[encoded data removed]",
      "text/plain": [
       "<Figure size 432x288 with 2 Axes>"
      ]
     },
     "metadata": {
      "needs_background": "light"
     },
     "output_type": "display_data"
    },
    {
     "data": {
      "image/png": "[encoded data removed]",
      "text/plain": [
       "<Figure size 432x288 with 2 Axes>"
      ]
     },
     "metadata": {
      "needs_background": "light"
     },
     "output_type": "display_data"
    },
    {
     "data": {
      "image/png": "[encoded data removed]",
      "text/plain": [
       "<Figure size 432x288 with 2 Axes>"
      ]
     },
     "metadata": {
      "needs_background": "light"
     },
     "output_type": "display_data"
    },
    {
     "data": {
      "image/png": "[encoded data removed]",
      "text/plain": [
       "<Figure size 432x288 with 2 Axes>"
      ]
     },
     "metadata": {
      "needs_background": "light"
     },
     "output_type": "display_data"
    },
    {
     "data": {
      "image/png": "[encoded data removed]",
      "text/plain": [
       "<Figure size 432x288 with 2 Axes>"
      ]
     },
     "metadata": {
      "needs_background": "light"
     },
     "output_type": "display_data"
    },
    {
     "data": {
      "image/png": "[encoded data removed]",
      "text/plain": [
       "<Figure size 432x288 with 2 Axes>"
      ]
     },
     "metadata": {
      "needs_background": "light"
     },
     "output_type": "display_data"
    },
    {
     "data": {
      "image/png": "[encoded data removed]",
      "text/plain": [
       "<Figure size 432x288 with 2 Axes>"
      ]
     },
     "metadata": {
      "needs_background": "light"
     },
     "output_type": "display_data"
    },
    {
     "data": {
      "image/png": "[encoded data removed]",
      "text/plain": [
       "<Figure size 432x288 with 2 Axes>"
      ]
     },
     "metadata": {
      "needs_background": "light"
     },
     "output_type": "display_data"
    },
    {
     "data": {
      "image/png": "[encoded data removed]",
      "text/plain": [
       "<Figure size 432x288 with 2 Axes>"
      ]
     },
     "metadata": {
      "needs_background": "light"
     },
     "output_type": "display_data"
    },
    {
     "data": {
      "image/png": "[encoded data removed]",
      "text/plain": [
       "<Figure size 432x288 with 2 Axes>"
      ]
     },
     "metadata": {
      "needs_background": "light"
     },
     "output_type": "display_data"
    }
   ],
   "source": [
    "hierarchical_centers = [np.mean(X[hierarchical_labels==i], axis=0) for i in clusters_h]\n",
    "\n",
    "kmeans_centers[1]\n",
    "\n",
    "for i in range(10):\n",
    "    fig,(ax1,ax2) = plt.subplots(1, 2, sharey=True)\n",
    "#     plt.subplot(2, 5, i + 1)\n",
    "    plt.imshow(kmeans_centers[i].reshape([8, 8]) )\n",
    "\n",
    "    ax1.imshow(kmeans_centers[i].reshape(8,8))\n",
    "    ax1.set_title('Kmeans model')\n",
    "    \n",
    "    ax2.imshow(hierarchical_centers[i].reshape(8,8))\n",
    "    ax2.set_title('Hierarchical model')"
   ]
  },
  {
   "cell_type": "code",
   "execution_count": null,
   "metadata": {},
   "outputs": [],
   "source": []
  },
  {
   "cell_type": "markdown",
   "metadata": {},
   "source": [
    "In a situation where the true number of classes is unknown, we can select it by maximazing some metric.\n",
    "\n",
    "When we can set some distance function between our observations, we can consider the `silhouette` distance as a function of measuring the quality of the clustering. Let's show how it is calculated:"
   ]
  },
  {
   "cell_type": "markdown",
   "metadata": {},
   "source": [
    "Let $X$ – set of observations, $M \\subset X$ – one of the clusters obtained as a result of clustering process, $\\rho$ – some metric on $X$. Let's choose one observation $x \\in M$. Denote $a(x)$ as the average distance from $x$ to  $x'$ points from the same cluster:\n",
    "$$\n",
    "a(x) = \\frac{1}{|M| - 1} \\sum_{x' \\in M,\\, x' \\ne x} \\rho(x,\\, x')\n",
    "$$\n",
    "\n",
    "Denote $b(x)$ as minimun of average distances from $x$ to $x''$ from some other cluster $N$:\n",
    "$$\n",
    "b(x) = \\min_{N \\ne M} \\frac{1}{|N|} \\sum_{x'' \\in N} \\rho(x,\\, x'')\n",
    "$$\n",
    "\n",
    "The silhouette is difference between a(x) and b(x), normalized to $[-1, \\, 1]$ and averaged over all observations:\n",
    "$$\n",
    "\\frac{1}{|X|} \\sum_{x \\in X} \\frac{b(x) - a(x)}{\\max(a(x),\\, b(x))}\n",
    "$$\n",
    "\n",
    "The implementation of this metric in the `scikit-learn` is the `silhouette_score` function from the `metrics` submidule."
   ]
  },
  {
   "cell_type": "markdown",
   "metadata": {
    "collapsed": true
   },
   "source": [
    "**(0.75 point)** For each $K$ between 2 and 20 inclusive, partition of the array $X$ into $K$ clusters using both methods. Calculate the silhouette score and visualize it for both methods on the same plot ($K$ on the $x$ axis and silhouette score on the $y$ axis). Sign the axes and make a legend."
   ]
  },
  {
   "cell_type": "code",
   "execution_count": 14,
   "metadata": {},
   "outputs": [],
   "source": [
    "hierarchical_silhouette = []\n",
    "km_silhouette = []\n",
    "k_clusters = np.arange(2,21)\n",
    "\n",
    "for i in k_clusters:\n",
    "    hierarchical_model = AgglomerativeClustering(n_clusters=i)\n",
    "    hierarchical_model.fit(X)\n",
    "    hierarchical_labels = hierarchical_model.labels_\n",
    "    hierarchical_silhouette.append(silhouette_score(X, hierarchical_labels))\n",
    "    \n",
    "    km = KMeans(n_clusters=i,random_state=42)\n",
    "    km.fit(X)\n",
    "    km_labels = km.labels_\n",
    "    km_silhouette.append(silhouette_score(X, km_labels))"
   ]
  },
  {
   "cell_type": "code",
   "execution_count": 15,
   "metadata": {},
   "outputs": [
    {
     "data": {
      "text/plain": [
       "Text(0, 0.5, 'Silhouette score')"
      ]
     },
     "execution_count": 15,
     "metadata": {},
     "output_type": "execute_result"
    },
    {
     "data": {
      "image/png": "[encoded data removed]",
      "text/plain": [
       "<Figure size 864x432 with 1 Axes>"
      ]
     },
     "metadata": {
      "needs_background": "light"
     },
     "output_type": "display_data"
    }
   ],
   "source": [
    "plt.figure(figsize=(12, 6))\n",
    "plt.plot(k_clusters, hierarchical_silhouette,label='hierarchical')\n",
    "plt.plot(k_clusters, km_silhouette,label='kmeans ')\n",
    "plt.legend()\n",
    "plt.xlabel('Clusters number')\n",
    "plt.ylabel('Silhouette score')\n"
   ]
  },
  {
   "cell_type": "markdown",
   "metadata": {},
   "source": [
    "When we know the true clustering labels, the clustering result can be compared to them using measures such as `homogeneity`, `completeness` and their harmonic mean - $V$-score. The definitions of these quantities are rather bulky and are based on the [entropy of the probability distribution](https://ru.wikipedia.org/wiki/Информационная_энтропия). Details are given in [this article](http://aclweb.org/anthology/D/D07/D07-1043.pdf). In practice, it's enough to know that `homogeneity`, `completeness` and $V$-score are in the range from 0 and 1, and the more, the better.\n",
    "\n",
    "Since we know what digit each image is (`y` array), we can compare the clustering results to it using the measures listed above."
   ]
  },
  {
   "cell_type": "markdown",
   "metadata": {},
   "source": [
    "**(0.5 points)** Repeat the previous task using $V$-measure instead of silhouette."
   ]
  },
  {
   "cell_type": "code",
   "execution_count": 16,
   "metadata": {},
   "outputs": [],
   "source": [
    "hierarchical_v_measure = []\n",
    "km_v_measure = []\n",
    "k_clusters = np.arange(2,21)\n",
    "\n",
    "for i in k_clusters:\n",
    "    hierarchical_model = AgglomerativeClustering(n_clusters=i)\n",
    "    hierarchical_model.fit(X)\n",
    "    hierarchical_labels = hierarchical_model.labels_\n",
    "    hierarchical_v_measure.append(v_measure_score(y, hierarchical_labels))\n",
    "    \n",
    "    km = KMeans(n_clusters=i,random_state=42)\n",
    "    km.fit(X)\n",
    "    km_labels = km.labels_\n",
    "    km_v_measure.append(v_measure_score(y, km_labels))"
   ]
  },
  {
   "cell_type": "code",
   "execution_count": 17,
   "metadata": {},
   "outputs": [
    {
     "data": {
      "text/plain": [
       "Text(0, 0.5, 'V-score')"
      ]
     },
     "execution_count": 17,
     "metadata": {},
     "output_type": "execute_result"
    },
    {
     "data": {
      "image/png": "[encoded data removed]",
      "text/plain": [
       "<Figure size 864x432 with 1 Axes>"
      ]
     },
     "metadata": {
      "needs_background": "light"
     },
     "output_type": "display_data"
    }
   ],
   "source": [
    "plt.figure(figsize=(12, 6))\n",
    "plt.plot(k_clusters, hierarchical_v_measure,label='hierarchical')\n",
    "plt.plot(k_clusters, km_v_measure,label='kmeans ')\n",
    "plt.legend()\n",
    "plt.xlabel('Clusters number')\n",
    "plt.ylabel('V-score')"
   ]
  },
  {
   "cell_type": "markdown",
   "metadata": {},
   "source": [
    "## 3. Feature space dimensionality reduction\n",
    "\n",
    "In some cases, especially when there are a large number of features, when not all of them are informative, and some of them are correlated, it can be useful to reduce the dimension of the feature space. This mean that instead of $d$ original features, we will go to $d'\\ll d$ new ones. And if earlier our data were presented in the form of an $n×d$ matrix, then it will presented as a $n×d'$.\n",
    "\n",
    "There are two popular dimensionality reduction approaches:\n",
    "- select new features from existing features;\n",
    "- extract the new features by transforming old ones, for example, by making $d'$ different linear combinations of columns of an $n×d$ matrix.\n",
    "\n",
    "One widely used dimensionality reduction technique is the Singular Value Decomposition (SVD). This method allows you to construct any number $d'\\leq d$ of new features in such a way that they are the most informative (in some sense).\n",
    "\n",
    "The `scikit-learn` module has several implementations of singular value decomposition. We will use the `TruncatedSVD` class from the `decomposition` submodule.\n",
    "\n",
    "**Note:** The singular value decomposition of the matrix $M$ is usually written as $M=U \\Sigma V^{*}$. `TruncatedSVD`, in turn, returns only the $d'$ first columns of the matrix $U$."
   ]
  },
  {
   "cell_type": "markdown",
   "metadata": {},
   "source": [
    "**(0.75 point)** Perform a singular value decomposition of the $X$ matrix, leaving 2, 5, 10, 20 features. In each case, perform hierarchical clustering and $K$-Means clustering (take the number of clusters equal to 10). Calculate the silhouette and $V$-score and compare them to corresponding values obtained from the original data.\n",
    "\n",
    "**Note**: It is not valid to compare the silhouette calculated with different metrics. Even if we use the same metric function when calculating the distance between points in the data, after applying dimensionality reduction or other data transformations, we will (not always) get different silhouette scores. Therefore, after training the clustering algorithm, to compare the result of clustering, you need to calculate the silhouette on the original data."
   ]
  },
  {
   "cell_type": "code",
   "execution_count": 18,
   "metadata": {},
   "outputs": [
    {
     "name": "stdout",
     "output_type": "stream",
     "text": [
      "kmeans_silhouette:  0.18244258012780126\n",
      "km_v_measure:  0.7414681265635256\n",
      "kmeans_silhouette_svd:  0.31257921924798354\n",
      "km_v_measure_svd:  0.6351431850310998\n"
     ]
    }
   ],
   "source": [
    "svd = TruncatedSVD(n_components=5, n_iter=7, random_state=42)\n",
    "X_svd = svd.fit_transform(X)\n",
    "# print(X_svd)\n",
    "\n",
    "kmeans = KMeans(n_clusters=10, random_state=42)\n",
    "kmeans.fit(X)\n",
    "kmeans_labels = kmeans.labels_\n",
    "kmeans_silhouette = silhouette_score(X, kmeans_labels)\n",
    "km_v_measure = v_measure_score(y, kmeans_labels)\n",
    "\n",
    "print('kmeans_silhouette: ', kmeans_silhouette)\n",
    "print('km_v_measure: ', km_v_measure)\n",
    "\n",
    "\n",
    "kmeans = KMeans(n_clusters=10, random_state=42)\n",
    "kmeans.fit(X_svd)\n",
    "kmeans_labels = kmeans.labels_\n",
    "kmeans_silhouette_svd = silhouette_score(X_svd, kmeans_labels)\n",
    "km_v_measure_svd = v_measure_score(y, kmeans_labels)\n",
    "\n",
    "print(f'kmeans_silhouette_svd: ', kmeans_silhouette_svd)\n",
    "print(f'km_v_measure_svd: ', km_v_measure_svd)\n",
    "\n"
   ]
  },
  {
   "cell_type": "code",
   "execution_count": null,
   "metadata": {},
   "outputs": [],
   "source": []
  },
  {
   "cell_type": "code",
   "execution_count": null,
   "metadata": {},
   "outputs": [],
   "source": []
  },
  {
   "cell_type": "markdown",
   "metadata": {},
   "source": [
    "Another popular dimensionality reduction approach that is useful for working with images is t-distributed stochastic neighbor embeddings, abbreviated `tSNE`. Unlike singular value decomposition, this it is non-linear transformation. It's main idea is to map points from a space of dimension `d` to another space of dimension 2 or 3 in such a way that the distances between points are mostly preserved. Mathematical details can be found, for example, [here](https://en.wikipedia.org/wiki/T-distributed_stochastic_neighbor_embedding).\n",
    "\n",
    "The implementation of `tSNE` in the `scikit-learn` library is the `TSNE` class in the `manifold` submodule.\n",
    "\n",
    "**Note:** In recent years [UMAP](https://github.com/lmcinnes/umap) is often used istead of `tSNE`. It is a faster algorithm with similar properties. We don't ask you to use `UMAP` because it requires you to install another dependency, the `umap-learn` library. Those who wish can perform the following task using `UMAP`."
   ]
  },
  {
   "cell_type": "markdown",
   "metadata": {},
   "source": [
    "**(0.5 points)** Perform a tSNE-transform of the `X` matrix, leaving 2 features. Visualize the obtained data in the form of a scatter plot form: the first feature on the horizontal axis, and the second one the vertical axis. Color the points according to the digits they belong to.\n",
    "\n",
    "- The `c` parameter in the plt.scatter function is responsible for the color of the points. Pass the true labels to it."
   ]
  },
  {
   "cell_type": "code",
   "execution_count": null,
   "metadata": {},
   "outputs": [],
   "source": []
  },
  {
   "cell_type": "code",
   "execution_count": null,
   "metadata": {},
   "outputs": [],
   "source": []
  },
  {
   "cell_type": "markdown",
   "metadata": {},
   "source": [
    "**(0.5 points)** From the data transformed using the tSNE, perform hierarchical clustering and $K$-means clustering (take the number of clusters equal to 10). Calculate the silhouette and the $V$-score and compare them to corresponding values obtained from the original data."
   ]
  },
  {
   "cell_type": "code",
   "execution_count": null,
   "metadata": {},
   "outputs": [],
   "source": []
  },
  {
   "cell_type": "markdown",
   "metadata": {},
   "source": [
    "**(0.25 points)** Choose the best partition (in terms of silhouette or $V$-score) and visualize the centers of clusters with images. Did you managed to make each digit correspond to one center of the cluster?"
   ]
  },
  {
   "cell_type": "code",
   "execution_count": null,
   "metadata": {},
   "outputs": [],
   "source": []
  },
  {
   "cell_type": "markdown",
   "metadata": {},
   "source": [
    "## 4. Results and bonus part"
   ]
  },
  {
   "cell_type": "markdown",
   "metadata": {},
   "source": [
    "Write in free form what conclusions you made after completing this assignment. Answer the following questions:\n",
    "\n",
    "**(0.5 points)** Which algorithm gives more meaningful results - hierarchical clustering or $K$- means clustering. Does it depend on the algorithm settings or on the quality evaluation method?"
   ]
  },
  {
   "cell_type": "code",
   "execution_count": null,
   "metadata": {},
   "outputs": [],
   "source": []
  },
  {
   "cell_type": "markdown",
   "metadata": {},
   "source": [
    "**(0.5 points)** Imagine the situation where after hierarchical clustering, you need to cluster new data in the same way without retraining the model. Suggest a method how you will do it and how you will measure the quality of clustering of new data."
   ]
  },
  {
   "cell_type": "code",
   "execution_count": null,
   "metadata": {},
   "outputs": [],
   "source": []
  },
  {
   "cell_type": "markdown",
   "metadata": {
    "collapsed": true
   },
   "source": [
    "**(0.5 points)** Does dimensionality reduction improve clustering results?"
   ]
  },
  {
   "cell_type": "code",
   "execution_count": null,
   "metadata": {},
   "outputs": [],
   "source": []
  },
  {
   "cell_type": "markdown",
   "metadata": {},
   "source": [
    "**(0.5 points)** How to evaluate the quality of dimensional reduction? Suggest at least 2 options."
   ]
  },
  {
   "cell_type": "code",
   "execution_count": null,
   "metadata": {},
   "outputs": [],
   "source": []
  },
  {
   "cell_type": "markdown",
   "metadata": {},
   "source": [
    "**(Bonus 2 points)** Load the [MNIST Handwritten Digits](http://yann.lecun.com/exdb/mnist) dataset. You can also do it with `scikit-learn` as explained [here](https://stackoverflow.com/a/60450028). Explore the data and try to cluster it using different approaches. Compare results of these approaches using the silhouette and the $V$-score."
   ]
  },
  {
   "cell_type": "code",
   "execution_count": null,
   "metadata": {},
   "outputs": [],
   "source": []
  }
 ],
 "metadata": {
  "kernelspec": {
   "display_name": "Python 3 (ipykernel)",
   "language": "python",
   "name": "python3"
  },
  "language_info": {
   "codemirror_mode": {
    "name": "ipython",
    "version": 3
   },
   "file_extension": ".py",
   "mimetype": "text/x-python",
   "name": "python",
   "nbconvert_exporter": "python",
   "pygments_lexer": "ipython3",
   "version": "3.9.7"
  }
 },
 "nbformat": 4,
 "nbformat_minor": 2
}
