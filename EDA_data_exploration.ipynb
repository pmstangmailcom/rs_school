{
 "cells": [
  {
   "cell_type": "code",
   "execution_count": 1,
   "id": "f0c21a2b",
   "metadata": {},
   "outputs": [],
   "source": [
    "# https://github.com/pmstangmailcom/rs_school/blob/main/EDA_data_exploration.ipynb\n",
    "#     link submit"
   ]
  },
  {
   "cell_type": "code",
   "execution_count": 109,
   "id": "b489cb9e",
   "metadata": {},
   "outputs": [],
   "source": [
    "import numpy as np\n",
    "import pandas as pd\n",
    "import matplotlib\n",
    "import matplotlib.pyplot as plt\n",
    "import seaborn as sns\n",
    "# import os\n",
    "%matplotlib inline"
   ]
  },
  {
   "cell_type": "code",
   "execution_count": 110,
   "id": "c4f8bf3a",
   "metadata": {},
   "outputs": [
    {
     "data": {
      "text/html": [
       "<div>\n",
       "<style scoped>\n",
       "    .dataframe tbody tr th:only-of-type {\n",
       "        vertical-align: middle;\n",
       "    }\n",
       "\n",
       "    .dataframe tbody tr th {\n",
       "        vertical-align: top;\n",
       "    }\n",
       "\n",
       "    .dataframe thead th {\n",
       "        text-align: right;\n",
       "    }\n",
       "</style>\n",
       "<table border=\"1\" class=\"dataframe\">\n",
       "  <thead>\n",
       "    <tr style=\"text-align: right;\">\n",
       "      <th></th>\n",
       "      <th>PassengerId</th>\n",
       "      <th>Survived</th>\n",
       "      <th>Pclass</th>\n",
       "      <th>Name</th>\n",
       "      <th>Sex</th>\n",
       "      <th>Age</th>\n",
       "      <th>SibSp</th>\n",
       "      <th>Parch</th>\n",
       "      <th>Ticket</th>\n",
       "      <th>Fare</th>\n",
       "      <th>Cabin</th>\n",
       "      <th>Embarked</th>\n",
       "    </tr>\n",
       "  </thead>\n",
       "  <tbody>\n",
       "    <tr>\n",
       "      <th>0</th>\n",
       "      <td>0</td>\n",
       "      <td>1</td>\n",
       "      <td>1</td>\n",
       "      <td>Oconnor, Frankie</td>\n",
       "      <td>male</td>\n",
       "      <td>NaN</td>\n",
       "      <td>2</td>\n",
       "      <td>0</td>\n",
       "      <td>209245</td>\n",
       "      <td>27.14</td>\n",
       "      <td>C12239</td>\n",
       "      <td>S</td>\n",
       "    </tr>\n",
       "    <tr>\n",
       "      <th>1</th>\n",
       "      <td>1</td>\n",
       "      <td>0</td>\n",
       "      <td>3</td>\n",
       "      <td>Bryan, Drew</td>\n",
       "      <td>male</td>\n",
       "      <td>NaN</td>\n",
       "      <td>0</td>\n",
       "      <td>0</td>\n",
       "      <td>27323</td>\n",
       "      <td>13.35</td>\n",
       "      <td>NaN</td>\n",
       "      <td>S</td>\n",
       "    </tr>\n",
       "    <tr>\n",
       "      <th>2</th>\n",
       "      <td>2</td>\n",
       "      <td>0</td>\n",
       "      <td>3</td>\n",
       "      <td>Owens, Kenneth</td>\n",
       "      <td>male</td>\n",
       "      <td>0.33</td>\n",
       "      <td>1</td>\n",
       "      <td>2</td>\n",
       "      <td>CA 457703</td>\n",
       "      <td>71.29</td>\n",
       "      <td>NaN</td>\n",
       "      <td>S</td>\n",
       "    </tr>\n",
       "    <tr>\n",
       "      <th>3</th>\n",
       "      <td>3</td>\n",
       "      <td>0</td>\n",
       "      <td>3</td>\n",
       "      <td>Kramer, James</td>\n",
       "      <td>male</td>\n",
       "      <td>19.00</td>\n",
       "      <td>0</td>\n",
       "      <td>0</td>\n",
       "      <td>A. 10866</td>\n",
       "      <td>13.04</td>\n",
       "      <td>NaN</td>\n",
       "      <td>S</td>\n",
       "    </tr>\n",
       "    <tr>\n",
       "      <th>4</th>\n",
       "      <td>4</td>\n",
       "      <td>1</td>\n",
       "      <td>3</td>\n",
       "      <td>Bond, Michael</td>\n",
       "      <td>male</td>\n",
       "      <td>25.00</td>\n",
       "      <td>0</td>\n",
       "      <td>0</td>\n",
       "      <td>427635</td>\n",
       "      <td>7.76</td>\n",
       "      <td>NaN</td>\n",
       "      <td>S</td>\n",
       "    </tr>\n",
       "  </tbody>\n",
       "</table>\n",
       "</div>"
      ],
      "text/plain": [
       "   PassengerId  Survived  Pclass              Name   Sex    Age  SibSp  Parch  \\\n",
       "0            0         1       1  Oconnor, Frankie  male    NaN      2      0   \n",
       "1            1         0       3       Bryan, Drew  male    NaN      0      0   \n",
       "2            2         0       3    Owens, Kenneth  male   0.33      1      2   \n",
       "3            3         0       3     Kramer, James  male  19.00      0      0   \n",
       "4            4         1       3     Bond, Michael  male  25.00      0      0   \n",
       "\n",
       "      Ticket   Fare   Cabin Embarked  \n",
       "0     209245  27.14  C12239        S  \n",
       "1      27323  13.35     NaN        S  \n",
       "2  CA 457703  71.29     NaN        S  \n",
       "3   A. 10866  13.04     NaN        S  \n",
       "4     427635   7.76     NaN        S  "
      ]
     },
     "execution_count": 110,
     "metadata": {},
     "output_type": "execute_result"
    }
   ],
   "source": [
    "passengers_before_cleaning = pd.read_csv('EDA_data_exploration_data.csv')\n",
    "passengers_before_cleaning.head()"
   ]
  },
  {
   "cell_type": "markdown",
   "id": "d07912a0",
   "metadata": {},
   "source": [
    "# Context"
   ]
  },
  {
   "cell_type": "markdown",
   "id": "7040f354",
   "metadata": {},
   "source": [
    "Things to do:\n",
    "1. Learning information about dataset\n",
    "2. Cleaning data\n",
    "3. Exploratory data analysis (form some hypotheses and make conclusions)\n",
    "4. Summary"
   ]
  },
  {
   "cell_type": "markdown",
   "id": "d02426d9",
   "metadata": {},
   "source": [
    "The dataset contains the passengers list of \"Titanic\". The dataset contains information about the passengers (several features), and the information if they are survived or not (target variable).\n",
    "\n",
    "Labels to note:\n",
    "\n",
    "1. PassengerId – passenger id \n",
    "2. Survived – died (0) or survived (1)\n",
    "3. Pclass – ticket class (first (1), second (2) or third (3))\n",
    "4. Name – name of passenger\n",
    "5. Sex – male/ female\n",
    "6. Age \n",
    "7. SibSp -  number of brothers, sisters or spouses\n",
    "8. Parch - number of parents and children\n",
    "9. Ticket – ticket number\n",
    "10. Fare - ticket price\n",
    "11. Cabin - cabin number\n",
    "12. Embarked – port of embarkation (C - Cherbourg; Q - Queenstown; S - Southampton)"
   ]
  },
  {
   "cell_type": "markdown",
   "id": "3fd102e3",
   "metadata": {},
   "source": []
  },
  {
   "cell_type": "code",
   "execution_count": 111,
   "id": "78fe15c2",
   "metadata": {},
   "outputs": [
    {
     "name": "stdout",
     "output_type": "stream",
     "text": [
      "<class 'pandas.core.frame.DataFrame'>\n",
      "RangeIndex: 100000 entries, 0 to 99999\n",
      "Data columns (total 12 columns):\n",
      " #   Column       Non-Null Count   Dtype  \n",
      "---  ------       --------------   -----  \n",
      " 0   PassengerId  100000 non-null  int64  \n",
      " 1   Survived     100000 non-null  int64  \n",
      " 2   Pclass       100000 non-null  int64  \n",
      " 3   Name         100000 non-null  object \n",
      " 4   Sex          100000 non-null  object \n",
      " 5   Age          96708 non-null   float64\n",
      " 6   SibSp        100000 non-null  int64  \n",
      " 7   Parch        100000 non-null  int64  \n",
      " 8   Ticket       95377 non-null   object \n",
      " 9   Fare         99866 non-null   float64\n",
      " 10  Cabin        32134 non-null   object \n",
      " 11  Embarked     99750 non-null   object \n",
      "dtypes: float64(2), int64(5), object(5)\n",
      "memory usage: 9.2+ MB\n"
     ]
    }
   ],
   "source": [
    "passengers_before_cleaning.info()"
   ]
  },
  {
   "cell_type": "markdown",
   "id": "3465c498",
   "metadata": {},
   "source": [
    "As we can see, we have 12 features. One feature  ('Survived') – is dependent target variable, others are features.\n",
    "In total, there are 100,000 records in the dataset. As we can see, there are a few columns with Nan values."
   ]
  },
  {
   "cell_type": "code",
   "execution_count": 112,
   "id": "312eece6",
   "metadata": {},
   "outputs": [
    {
     "data": {
      "text/html": [
       "<div>\n",
       "<style scoped>\n",
       "    .dataframe tbody tr th:only-of-type {\n",
       "        vertical-align: middle;\n",
       "    }\n",
       "\n",
       "    .dataframe tbody tr th {\n",
       "        vertical-align: top;\n",
       "    }\n",
       "\n",
       "    .dataframe thead th {\n",
       "        text-align: right;\n",
       "    }\n",
       "</style>\n",
       "<table border=\"1\" class=\"dataframe\">\n",
       "  <thead>\n",
       "    <tr style=\"text-align: right;\">\n",
       "      <th></th>\n",
       "      <th>PassengerId</th>\n",
       "      <th>Survived</th>\n",
       "      <th>Pclass</th>\n",
       "      <th>Age</th>\n",
       "      <th>SibSp</th>\n",
       "      <th>Parch</th>\n",
       "      <th>Fare</th>\n",
       "    </tr>\n",
       "  </thead>\n",
       "  <tbody>\n",
       "    <tr>\n",
       "      <th>count</th>\n",
       "      <td>100000.000000</td>\n",
       "      <td>100000.000000</td>\n",
       "      <td>100000.000000</td>\n",
       "      <td>96708.000000</td>\n",
       "      <td>100000.000000</td>\n",
       "      <td>100000.000000</td>\n",
       "      <td>99866.00000</td>\n",
       "    </tr>\n",
       "    <tr>\n",
       "      <th>mean</th>\n",
       "      <td>49999.500000</td>\n",
       "      <td>0.427740</td>\n",
       "      <td>2.106910</td>\n",
       "      <td>38.355472</td>\n",
       "      <td>0.397690</td>\n",
       "      <td>0.454560</td>\n",
       "      <td>43.92933</td>\n",
       "    </tr>\n",
       "    <tr>\n",
       "      <th>std</th>\n",
       "      <td>28867.657797</td>\n",
       "      <td>0.494753</td>\n",
       "      <td>0.837727</td>\n",
       "      <td>18.313556</td>\n",
       "      <td>0.862566</td>\n",
       "      <td>0.950076</td>\n",
       "      <td>69.58882</td>\n",
       "    </tr>\n",
       "    <tr>\n",
       "      <th>min</th>\n",
       "      <td>0.000000</td>\n",
       "      <td>0.000000</td>\n",
       "      <td>1.000000</td>\n",
       "      <td>0.080000</td>\n",
       "      <td>0.000000</td>\n",
       "      <td>0.000000</td>\n",
       "      <td>0.68000</td>\n",
       "    </tr>\n",
       "    <tr>\n",
       "      <th>25%</th>\n",
       "      <td>24999.750000</td>\n",
       "      <td>0.000000</td>\n",
       "      <td>1.000000</td>\n",
       "      <td>25.000000</td>\n",
       "      <td>0.000000</td>\n",
       "      <td>0.000000</td>\n",
       "      <td>10.04000</td>\n",
       "    </tr>\n",
       "    <tr>\n",
       "      <th>50%</th>\n",
       "      <td>49999.500000</td>\n",
       "      <td>0.000000</td>\n",
       "      <td>2.000000</td>\n",
       "      <td>39.000000</td>\n",
       "      <td>0.000000</td>\n",
       "      <td>0.000000</td>\n",
       "      <td>24.46000</td>\n",
       "    </tr>\n",
       "    <tr>\n",
       "      <th>75%</th>\n",
       "      <td>74999.250000</td>\n",
       "      <td>1.000000</td>\n",
       "      <td>3.000000</td>\n",
       "      <td>53.000000</td>\n",
       "      <td>1.000000</td>\n",
       "      <td>1.000000</td>\n",
       "      <td>33.50000</td>\n",
       "    </tr>\n",
       "    <tr>\n",
       "      <th>max</th>\n",
       "      <td>99999.000000</td>\n",
       "      <td>1.000000</td>\n",
       "      <td>3.000000</td>\n",
       "      <td>87.000000</td>\n",
       "      <td>8.000000</td>\n",
       "      <td>9.000000</td>\n",
       "      <td>744.66000</td>\n",
       "    </tr>\n",
       "  </tbody>\n",
       "</table>\n",
       "</div>"
      ],
      "text/plain": [
       "         PassengerId       Survived         Pclass           Age  \\\n",
       "count  100000.000000  100000.000000  100000.000000  96708.000000   \n",
       "mean    49999.500000       0.427740       2.106910     38.355472   \n",
       "std     28867.657797       0.494753       0.837727     18.313556   \n",
       "min         0.000000       0.000000       1.000000      0.080000   \n",
       "25%     24999.750000       0.000000       1.000000     25.000000   \n",
       "50%     49999.500000       0.000000       2.000000     39.000000   \n",
       "75%     74999.250000       1.000000       3.000000     53.000000   \n",
       "max     99999.000000       1.000000       3.000000     87.000000   \n",
       "\n",
       "               SibSp          Parch         Fare  \n",
       "count  100000.000000  100000.000000  99866.00000  \n",
       "mean        0.397690       0.454560     43.92933  \n",
       "std         0.862566       0.950076     69.58882  \n",
       "min         0.000000       0.000000      0.68000  \n",
       "25%         0.000000       0.000000     10.04000  \n",
       "50%         0.000000       0.000000     24.46000  \n",
       "75%         1.000000       1.000000     33.50000  \n",
       "max         8.000000       9.000000    744.66000  "
      ]
     },
     "execution_count": 112,
     "metadata": {},
     "output_type": "execute_result"
    }
   ],
   "source": [
    "passengers_before_cleaning.describe()"
   ]
  },
  {
   "cell_type": "markdown",
   "id": "9b4320c6",
   "metadata": {},
   "source": [
    "# Data quality assessment"
   ]
  },
  {
   "cell_type": "markdown",
   "id": "abd42dc1",
   "metadata": {},
   "source": [
    "### Find and drop duplicates"
   ]
  },
  {
   "cell_type": "code",
   "execution_count": 113,
   "id": "3de7dc76",
   "metadata": {},
   "outputs": [
    {
     "data": {
      "text/plain": [
       "(100000, 12)"
      ]
     },
     "execution_count": 113,
     "metadata": {},
     "output_type": "execute_result"
    }
   ],
   "source": [
    "passengers_before_cleaning.shape"
   ]
  },
  {
   "cell_type": "code",
   "execution_count": 114,
   "id": "76d08496",
   "metadata": {},
   "outputs": [
    {
     "data": {
      "text/plain": [
       "(100000, 12)"
      ]
     },
     "execution_count": 114,
     "metadata": {},
     "output_type": "execute_result"
    }
   ],
   "source": [
    "passengers_before_cleaning.drop_duplicates()\n",
    "passengers_before_cleaning.shape\n"
   ]
  },
  {
   "cell_type": "markdown",
   "id": "9e737966",
   "metadata": {},
   "source": [
    "As we see, there weren't duplicates"
   ]
  },
  {
   "cell_type": "markdown",
   "id": "012a3c70",
   "metadata": {},
   "source": [
    "### Processing of missing values"
   ]
  },
  {
   "cell_type": "markdown",
   "id": "e2305352",
   "metadata": {},
   "source": [
    "Heatmap of missing values\n"
   ]
  },
  {
   "cell_type": "code",
   "execution_count": 115,
   "id": "123d43ac",
   "metadata": {},
   "outputs": [
    {
     "data": {
      "text/plain": [
       "<AxesSubplot:>"
      ]
     },
     "execution_count": 115,
     "metadata": {},
     "output_type": "execute_result"
    },
    {
     "data": {
      "image/png": "[encoded data removed]",
      "text/plain": [
       "<Figure size 432x288 with 2 Axes>"
      ]
     },
     "metadata": {
      "needs_background": "light"
     },
     "output_type": "display_data"
    }
   ],
   "source": [
    "\n",
    "colours = ['#000099', '#ffff00'] # yellow - NaN, blue - not NaN\n",
    "sns.heatmap(passengers_before_cleaning.isnull(), cmap=sns.color_palette(colours))"
   ]
  },
  {
   "cell_type": "markdown",
   "id": "40d55dee",
   "metadata": {},
   "source": [
    "We see feature 'Cabin' has a lot of NaN's.  Specify the number of NaN's (in percents)"
   ]
  },
  {
   "cell_type": "code",
   "execution_count": null,
   "id": "faffbfb6",
   "metadata": {},
   "outputs": [],
   "source": []
  },
  {
   "cell_type": "code",
   "execution_count": 116,
   "id": "31cca5b1",
   "metadata": {},
   "outputs": [
    {
     "data": {
      "text/plain": [
       "PassengerId     0.000\n",
       "Survived        0.000\n",
       "Pclass          0.000\n",
       "Name            0.000\n",
       "Sex             0.000\n",
       "Age             3.292\n",
       "SibSp           0.000\n",
       "Parch           0.000\n",
       "Ticket          4.623\n",
       "Fare            0.134\n",
       "Cabin          67.866\n",
       "Embarked        0.250\n",
       "dtype: float64"
      ]
     },
     "execution_count": 116,
     "metadata": {},
     "output_type": "execute_result"
    }
   ],
   "source": [
    "passengers_before_cleaning.isnull().mean()*100\n"
   ]
  },
  {
   "cell_type": "markdown",
   "id": "3547fe82",
   "metadata": {},
   "source": [
    "NaN's in feature 'Cabin' are almost 70%, this feature can be ignored"
   ]
  },
  {
   "cell_type": "markdown",
   "id": "6ac67f92",
   "metadata": {},
   "source": [
    "Drop rows with NaN in columns 'Embarked', 'Fare', this is only 0.384% of all values."
   ]
  },
  {
   "cell_type": "code",
   "execution_count": 270,
   "id": "42b7b518",
   "metadata": {},
   "outputs": [
    {
     "data": {
      "text/html": [
       "<div>\n",
       "<style scoped>\n",
       "    .dataframe tbody tr th:only-of-type {\n",
       "        vertical-align: middle;\n",
       "    }\n",
       "\n",
       "    .dataframe tbody tr th {\n",
       "        vertical-align: top;\n",
       "    }\n",
       "\n",
       "    .dataframe thead th {\n",
       "        text-align: right;\n",
       "    }\n",
       "</style>\n",
       "<table border=\"1\" class=\"dataframe\">\n",
       "  <thead>\n",
       "    <tr style=\"text-align: right;\">\n",
       "      <th></th>\n",
       "      <th>PassengerId</th>\n",
       "      <th>Survived</th>\n",
       "      <th>Pclass</th>\n",
       "      <th>Name</th>\n",
       "      <th>Sex</th>\n",
       "      <th>Age</th>\n",
       "      <th>SibSp</th>\n",
       "      <th>Parch</th>\n",
       "      <th>Ticket</th>\n",
       "      <th>Fare</th>\n",
       "      <th>Cabin</th>\n",
       "      <th>Embarked</th>\n",
       "    </tr>\n",
       "  </thead>\n",
       "  <tbody>\n",
       "    <tr>\n",
       "      <th>0</th>\n",
       "      <td>0</td>\n",
       "      <td>1</td>\n",
       "      <td>1</td>\n",
       "      <td>Oconnor, Frankie</td>\n",
       "      <td>male</td>\n",
       "      <td>NaN</td>\n",
       "      <td>2</td>\n",
       "      <td>0</td>\n",
       "      <td>209245</td>\n",
       "      <td>27.14</td>\n",
       "      <td>C12239</td>\n",
       "      <td>S</td>\n",
       "    </tr>\n",
       "    <tr>\n",
       "      <th>1</th>\n",
       "      <td>1</td>\n",
       "      <td>0</td>\n",
       "      <td>3</td>\n",
       "      <td>Bryan, Drew</td>\n",
       "      <td>male</td>\n",
       "      <td>NaN</td>\n",
       "      <td>0</td>\n",
       "      <td>0</td>\n",
       "      <td>27323</td>\n",
       "      <td>13.35</td>\n",
       "      <td>NaN</td>\n",
       "      <td>S</td>\n",
       "    </tr>\n",
       "    <tr>\n",
       "      <th>2</th>\n",
       "      <td>2</td>\n",
       "      <td>0</td>\n",
       "      <td>3</td>\n",
       "      <td>Owens, Kenneth</td>\n",
       "      <td>male</td>\n",
       "      <td>0.33</td>\n",
       "      <td>1</td>\n",
       "      <td>2</td>\n",
       "      <td>CA 457703</td>\n",
       "      <td>71.29</td>\n",
       "      <td>NaN</td>\n",
       "      <td>S</td>\n",
       "    </tr>\n",
       "    <tr>\n",
       "      <th>3</th>\n",
       "      <td>3</td>\n",
       "      <td>0</td>\n",
       "      <td>3</td>\n",
       "      <td>Kramer, James</td>\n",
       "      <td>male</td>\n",
       "      <td>19.00</td>\n",
       "      <td>0</td>\n",
       "      <td>0</td>\n",
       "      <td>A. 10866</td>\n",
       "      <td>13.04</td>\n",
       "      <td>NaN</td>\n",
       "      <td>S</td>\n",
       "    </tr>\n",
       "    <tr>\n",
       "      <th>4</th>\n",
       "      <td>4</td>\n",
       "      <td>1</td>\n",
       "      <td>3</td>\n",
       "      <td>Bond, Michael</td>\n",
       "      <td>male</td>\n",
       "      <td>25.00</td>\n",
       "      <td>0</td>\n",
       "      <td>0</td>\n",
       "      <td>427635</td>\n",
       "      <td>7.76</td>\n",
       "      <td>NaN</td>\n",
       "      <td>S</td>\n",
       "    </tr>\n",
       "  </tbody>\n",
       "</table>\n",
       "</div>"
      ],
      "text/plain": [
       "   PassengerId  Survived  Pclass              Name   Sex    Age  SibSp  Parch  \\\n",
       "0            0         1       1  Oconnor, Frankie  male    NaN      2      0   \n",
       "1            1         0       3       Bryan, Drew  male    NaN      0      0   \n",
       "2            2         0       3    Owens, Kenneth  male   0.33      1      2   \n",
       "3            3         0       3     Kramer, James  male  19.00      0      0   \n",
       "4            4         1       3     Bond, Michael  male  25.00      0      0   \n",
       "\n",
       "      Ticket   Fare   Cabin Embarked  \n",
       "0     209245  27.14  C12239        S  \n",
       "1      27323  13.35     NaN        S  \n",
       "2  CA 457703  71.29     NaN        S  \n",
       "3   A. 10866  13.04     NaN        S  \n",
       "4     427635   7.76     NaN        S  "
      ]
     },
     "execution_count": 270,
     "metadata": {},
     "output_type": "execute_result"
    }
   ],
   "source": [
    "passengers = passengers_before_cleaning.dropna(subset=['Embarked', 'Fare'])\n",
    "passengers.head()"
   ]
  },
  {
   "cell_type": "markdown",
   "id": "dc40cc56",
   "metadata": {},
   "source": [
    "NaN of 'Age' replace by median age"
   ]
  },
  {
   "cell_type": "code",
   "execution_count": 271,
   "id": "94fd3eab",
   "metadata": {},
   "outputs": [
    {
     "name": "stderr",
     "output_type": "stream",
     "text": [
      "C:\\Users\\churi\\anaconda3\\lib\\site-packages\\pandas\\core\\generic.py:6392: SettingWithCopyWarning: \n",
      "A value is trying to be set on a copy of a slice from a DataFrame\n",
      "\n",
      "See the caveats in the documentation: https://pandas.pydata.org/pandas-docs/stable/user_guide/indexing.html#returning-a-view-versus-a-copy\n",
      "  return self._update_inplace(result)\n"
     ]
    }
   ],
   "source": [
    "age_median = passengers['Age'].median()\n",
    "passengers['Age'].fillna(value=age_median, inplace=True)"
   ]
  },
  {
   "cell_type": "markdown",
   "id": "6d4885c6",
   "metadata": {},
   "source": [
    "Replace all NaN's of the column 'Ticket' with 'no ticket number' . Replace all NaN's of the column 'Cabin' with 'no cabin number'"
   ]
  },
  {
   "cell_type": "code",
   "execution_count": null,
   "id": "a2b518e4",
   "metadata": {},
   "outputs": [],
   "source": []
  },
  {
   "cell_type": "code",
   "execution_count": 272,
   "id": "aafe074c",
   "metadata": {},
   "outputs": [],
   "source": [
    "\n",
    "passengers.fillna({'Ticket': 'no ticket number', 'Cabin': 'no cabin number'}, inplace=True)"
   ]
  },
  {
   "cell_type": "markdown",
   "id": "14f6b428",
   "metadata": {},
   "source": [
    "Check that we don't have any NaN"
   ]
  },
  {
   "cell_type": "code",
   "execution_count": 273,
   "id": "252df53d",
   "metadata": {},
   "outputs": [
    {
     "data": {
      "text/plain": [
       "PassengerId    0.0\n",
       "Survived       0.0\n",
       "Pclass         0.0\n",
       "Name           0.0\n",
       "Sex            0.0\n",
       "Age            0.0\n",
       "SibSp          0.0\n",
       "Parch          0.0\n",
       "Ticket         0.0\n",
       "Fare           0.0\n",
       "Cabin          0.0\n",
       "Embarked       0.0\n",
       "dtype: float64"
      ]
     },
     "execution_count": 273,
     "metadata": {},
     "output_type": "execute_result"
    }
   ],
   "source": [
    "passengers.isnull().mean()*100"
   ]
  },
  {
   "cell_type": "markdown",
   "id": "0115dfc0",
   "metadata": {},
   "source": [
    "Now we don't have any NAN's\n"
   ]
  },
  {
   "cell_type": "markdown",
   "id": "260c56c8",
   "metadata": {},
   "source": [
    "### Let's process categorical features. "
   ]
  },
  {
   "cell_type": "code",
   "execution_count": 274,
   "id": "1da4591e",
   "metadata": {},
   "outputs": [
    {
     "data": {
      "text/plain": [
       "male      55920\n",
       "female    43697\n",
       "Name: Sex, dtype: int64"
      ]
     },
     "execution_count": 274,
     "metadata": {},
     "output_type": "execute_result"
    }
   ],
   "source": [
    "\n",
    "passengers['Sex'].value_counts()\n"
   ]
  },
  {
   "cell_type": "code",
   "execution_count": 275,
   "id": "e07ce48f",
   "metadata": {},
   "outputs": [
    {
     "data": {
      "text/plain": [
       "S    72047\n",
       "C    22154\n",
       "Q     5416\n",
       "Name: Embarked, dtype: int64"
      ]
     },
     "execution_count": 275,
     "metadata": {},
     "output_type": "execute_result"
    },
    {
     "data": {
      "image/png": "[encoded data removed]",
      "text/plain": [
       "<Figure size 432x288 with 1 Axes>"
      ]
     },
     "metadata": {
      "needs_background": "light"
     },
     "output_type": "display_data"
    }
   ],
   "source": [
    "passengers['Embarked'].value_counts().plot.bar()\n",
    "passengers['Embarked'].value_counts()"
   ]
  },
  {
   "cell_type": "markdown",
   "id": "8dc2a31a",
   "metadata": {},
   "source": [
    "Нас интересуют столбцы:\n",
    "    Sex (принимает два варианта значений, распределение значений примерно одинаковое, что делает этот признак информативным), Embarked (три варианта).\n",
    "Признаки Name, Ticket, Cabin не меняем\n",
    "\n",
    "We are interested in the columns:\n",
    "1. 'Sex' (accepts two variants of values, the distribution of values is almost 50X50, which makes this feature informative), \n",
    "2. 'Embarked' (three variants).\n",
    "\n",
    "Columns 'Name', 'Ticket', 'Cabin' we do not change"
   ]
  },
  {
   "cell_type": "markdown",
   "id": "85cf1d4e",
   "metadata": {},
   "source": [
    "Use One Hot Encoding"
   ]
  },
  {
   "cell_type": "code",
   "execution_count": 276,
   "id": "0993313f",
   "metadata": {},
   "outputs": [
    {
     "data": {
      "text/html": [
       "<div>\n",
       "<style scoped>\n",
       "    .dataframe tbody tr th:only-of-type {\n",
       "        vertical-align: middle;\n",
       "    }\n",
       "\n",
       "    .dataframe tbody tr th {\n",
       "        vertical-align: top;\n",
       "    }\n",
       "\n",
       "    .dataframe thead th {\n",
       "        text-align: right;\n",
       "    }\n",
       "</style>\n",
       "<table border=\"1\" class=\"dataframe\">\n",
       "  <thead>\n",
       "    <tr style=\"text-align: right;\">\n",
       "      <th></th>\n",
       "      <th>PassengerId</th>\n",
       "      <th>Survived</th>\n",
       "      <th>Pclass</th>\n",
       "      <th>Name</th>\n",
       "      <th>Age</th>\n",
       "      <th>SibSp</th>\n",
       "      <th>Parch</th>\n",
       "      <th>Ticket</th>\n",
       "      <th>Fare</th>\n",
       "      <th>Cabin</th>\n",
       "      <th>Sex_female</th>\n",
       "      <th>Sex_male</th>\n",
       "      <th>Embarked_C</th>\n",
       "      <th>Embarked_Q</th>\n",
       "      <th>Embarked_S</th>\n",
       "    </tr>\n",
       "  </thead>\n",
       "  <tbody>\n",
       "    <tr>\n",
       "      <th>99995</th>\n",
       "      <td>99995</td>\n",
       "      <td>1</td>\n",
       "      <td>2</td>\n",
       "      <td>Bell, Adele</td>\n",
       "      <td>62.0</td>\n",
       "      <td>0</td>\n",
       "      <td>0</td>\n",
       "      <td>PC 15008</td>\n",
       "      <td>14.86</td>\n",
       "      <td>D17243</td>\n",
       "      <td>1</td>\n",
       "      <td>0</td>\n",
       "      <td>1</td>\n",
       "      <td>0</td>\n",
       "      <td>0</td>\n",
       "    </tr>\n",
       "    <tr>\n",
       "      <th>99996</th>\n",
       "      <td>99996</td>\n",
       "      <td>0</td>\n",
       "      <td>2</td>\n",
       "      <td>Brown, Herman</td>\n",
       "      <td>66.0</td>\n",
       "      <td>0</td>\n",
       "      <td>0</td>\n",
       "      <td>13273</td>\n",
       "      <td>11.15</td>\n",
       "      <td>no cabin number</td>\n",
       "      <td>0</td>\n",
       "      <td>1</td>\n",
       "      <td>0</td>\n",
       "      <td>0</td>\n",
       "      <td>1</td>\n",
       "    </tr>\n",
       "    <tr>\n",
       "      <th>99997</th>\n",
       "      <td>99997</td>\n",
       "      <td>0</td>\n",
       "      <td>3</td>\n",
       "      <td>Childress, Charles</td>\n",
       "      <td>37.0</td>\n",
       "      <td>0</td>\n",
       "      <td>0</td>\n",
       "      <td>no ticket number</td>\n",
       "      <td>9.95</td>\n",
       "      <td>no cabin number</td>\n",
       "      <td>0</td>\n",
       "      <td>1</td>\n",
       "      <td>0</td>\n",
       "      <td>0</td>\n",
       "      <td>1</td>\n",
       "    </tr>\n",
       "    <tr>\n",
       "      <th>99998</th>\n",
       "      <td>99998</td>\n",
       "      <td>0</td>\n",
       "      <td>3</td>\n",
       "      <td>Caughlin, Thomas</td>\n",
       "      <td>51.0</td>\n",
       "      <td>0</td>\n",
       "      <td>1</td>\n",
       "      <td>458654</td>\n",
       "      <td>30.92</td>\n",
       "      <td>no cabin number</td>\n",
       "      <td>0</td>\n",
       "      <td>1</td>\n",
       "      <td>0</td>\n",
       "      <td>0</td>\n",
       "      <td>1</td>\n",
       "    </tr>\n",
       "    <tr>\n",
       "      <th>99999</th>\n",
       "      <td>99999</td>\n",
       "      <td>0</td>\n",
       "      <td>3</td>\n",
       "      <td>Enciso, Tyler</td>\n",
       "      <td>55.0</td>\n",
       "      <td>0</td>\n",
       "      <td>0</td>\n",
       "      <td>458074</td>\n",
       "      <td>13.96</td>\n",
       "      <td>no cabin number</td>\n",
       "      <td>0</td>\n",
       "      <td>1</td>\n",
       "      <td>0</td>\n",
       "      <td>0</td>\n",
       "      <td>1</td>\n",
       "    </tr>\n",
       "  </tbody>\n",
       "</table>\n",
       "</div>"
      ],
      "text/plain": [
       "       PassengerId  Survived  Pclass                Name   Age  SibSp  Parch  \\\n",
       "99995        99995         1       2         Bell, Adele  62.0      0      0   \n",
       "99996        99996         0       2       Brown, Herman  66.0      0      0   \n",
       "99997        99997         0       3  Childress, Charles  37.0      0      0   \n",
       "99998        99998         0       3    Caughlin, Thomas  51.0      0      1   \n",
       "99999        99999         0       3       Enciso, Tyler  55.0      0      0   \n",
       "\n",
       "                 Ticket   Fare            Cabin  Sex_female  Sex_male  \\\n",
       "99995          PC 15008  14.86           D17243           1         0   \n",
       "99996             13273  11.15  no cabin number           0         1   \n",
       "99997  no ticket number   9.95  no cabin number           0         1   \n",
       "99998            458654  30.92  no cabin number           0         1   \n",
       "99999            458074  13.96  no cabin number           0         1   \n",
       "\n",
       "       Embarked_C  Embarked_Q  Embarked_S  \n",
       "99995           1           0           0  \n",
       "99996           0           0           1  \n",
       "99997           0           0           1  \n",
       "99998           0           0           1  \n",
       "99999           0           0           1  "
      ]
     },
     "execution_count": 276,
     "metadata": {},
     "output_type": "execute_result"
    }
   ],
   "source": [
    "passengers = pd.get_dummies(passengers, columns=['Sex', 'Embarked'])\n",
    "passengers.tail()"
   ]
  },
  {
   "cell_type": "markdown",
   "id": "ef643889",
   "metadata": {},
   "source": [
    "### Analyze the outliers"
   ]
  },
  {
   "cell_type": "markdown",
   "id": "213928e9",
   "metadata": {},
   "source": [
    "Column 'Survived' must take the values 1 or 2, Pclass - values 1, 2 or 3. Let's check it."
   ]
  },
  {
   "cell_type": "code",
   "execution_count": 277,
   "id": "cff46604",
   "metadata": {},
   "outputs": [
    {
     "data": {
      "text/plain": [
       "array([1, 0], dtype=int64)"
      ]
     },
     "execution_count": 277,
     "metadata": {},
     "output_type": "execute_result"
    }
   ],
   "source": [
    "passengers['Survived'].unique()"
   ]
  },
  {
   "cell_type": "code",
   "execution_count": 278,
   "id": "ed67e4fc",
   "metadata": {},
   "outputs": [
    {
     "data": {
      "text/plain": [
       "array([1, 3, 2], dtype=int64)"
      ]
     },
     "execution_count": 278,
     "metadata": {},
     "output_type": "execute_result"
    }
   ],
   "source": [
    "passengers['Pclass'].unique()"
   ]
  },
  {
   "cell_type": "markdown",
   "id": "54d0238c",
   "metadata": {},
   "source": []
  },
  {
   "cell_type": "markdown",
   "id": "33174f90",
   "metadata": {},
   "source": [
    "Let's look up on columns 'Age'."
   ]
  },
  {
   "cell_type": "code",
   "execution_count": 279,
   "id": "3e07eb59",
   "metadata": {},
   "outputs": [
    {
     "data": {
      "text/plain": [
       "count    99617.000000\n",
       "mean        38.373983\n",
       "std         18.010471\n",
       "min          0.080000\n",
       "25%         25.000000\n",
       "50%         39.000000\n",
       "75%         53.000000\n",
       "max         87.000000\n",
       "Name: Age, dtype: float64"
      ]
     },
     "execution_count": 279,
     "metadata": {},
     "output_type": "execute_result"
    }
   ],
   "source": [
    "passengers['Age'].describe()"
   ]
  },
  {
   "cell_type": "markdown",
   "id": "8e72b83b",
   "metadata": {},
   "source": [
    "We see that age changes from 0,08 to 87 years old, which may be true"
   ]
  },
  {
   "cell_type": "markdown",
   "id": "554fff47",
   "metadata": {},
   "source": [
    "?????????????????????????Анализируем наличие выбросов стоимость билета для разных классов"
   ]
  },
  {
   "cell_type": "code",
   "execution_count": null,
   "id": "4395502f",
   "metadata": {},
   "outputs": [],
   "source": []
  },
  {
   "cell_type": "code",
   "execution_count": null,
   "id": "2df8c576",
   "metadata": {},
   "outputs": [],
   "source": []
  },
  {
   "cell_type": "code",
   "execution_count": null,
   "id": "bc9b5478",
   "metadata": {},
   "outputs": [],
   "source": []
  },
  {
   "cell_type": "code",
   "execution_count": null,
   "id": "b16307de",
   "metadata": {},
   "outputs": [],
   "source": []
  },
  {
   "cell_type": "markdown",
   "id": "5408eca5",
   "metadata": {},
   "source": [
    "# Data exploration"
   ]
  },
  {
   "cell_type": "markdown",
   "id": "2ec24e2a",
   "metadata": {},
   "source": [
    "### Exploration of each individual variable"
   ]
  },
  {
   "cell_type": "code",
   "execution_count": 331,
   "id": "b8afe5b2",
   "metadata": {},
   "outputs": [],
   "source": [
    "sns.set_style('darkgrid')\n",
    "matplotlib.rcParams['font.size'] = 14\n",
    "matplotlib.rcParams['figure.figsize'] = (10, 5)\n",
    "matplotlib.rcParams['figure.facecolor'] = '#00000000'"
   ]
  },
  {
   "cell_type": "code",
   "execution_count": 332,
   "id": "2417286d",
   "metadata": {},
   "outputs": [
    {
     "data": {
      "text/plain": [
       "<AxesSubplot:title={'center':'Distribution of Survived (1) and not Survived (0) passengers'}>"
      ]
     },
     "execution_count": 332,
     "metadata": {},
     "output_type": "execute_result"
    },
    {
     "data": {
      "image/png": "[encoded data removed]",
      "text/plain": [
       "<Figure size 720x360 with 1 Axes>"
      ]
     },
     "metadata": {
      "needs_background": "light"
     },
     "output_type": "display_data"
    }
   ],
   "source": [
    "plt.title('Distribution of Survived (1) and not Survived (0) passengers')\n",
    "passengers['Survived'].value_counts().plot.bar(rot=0)"
   ]
  },
  {
   "cell_type": "markdown",
   "id": "f5371f3a",
   "metadata": {},
   "source": [
    "The target 'Survived' good target, it has almost 50x50 distribution "
   ]
  },
  {
   "cell_type": "code",
   "execution_count": 333,
   "id": "8bbfa516",
   "metadata": {},
   "outputs": [
    {
     "data": {
      "text/plain": [
       "<AxesSubplot:title={'center':'Distribution of male and female passengers'}, xlabel='Sex_male,Sex_female'>"
      ]
     },
     "execution_count": 333,
     "metadata": {},
     "output_type": "execute_result"
    },
    {
     "data": {
      "image/png": "[encoded data removed]",
      "text/plain": [
       "<Figure size 720x360 with 1 Axes>"
      ]
     },
     "metadata": {
      "needs_background": "light"
     },
     "output_type": "display_data"
    }
   ],
   "source": [
    "plt.title('Distribution of male and female passengers')\n",
    "passengers[['Sex_male', 'Sex_female']].value_counts().plot.bar(rot=0)"
   ]
  },
  {
   "cell_type": "markdown",
   "id": "852d126b",
   "metadata": {},
   "source": [
    "The feature 'Sex' is a significant feature, because it has almost 50x50 distribution"
   ]
  },
  {
   "cell_type": "code",
   "execution_count": 409,
   "id": "4eaca130",
   "metadata": {},
   "outputs": [
    {
     "data": {
      "text/plain": [
       "<AxesSubplot:title={'center':'Distribution of passengers devided into three classes'}>"
      ]
     },
     "execution_count": 409,
     "metadata": {},
     "output_type": "execute_result"
    },
    {
     "data": {
      "image/png": "[encoded data removed]",
      "text/plain": [
       "<Figure size 720x360 with 1 Axes>"
      ]
     },
     "metadata": {
      "needs_background": "light"
     },
     "output_type": "display_data"
    }
   ],
   "source": [
    "plt.title('Distribution of passengers devided into three classes')\n",
    "passengers['Pclass'].value_counts().plot.bar(rot=0)"
   ]
  },
  {
   "cell_type": "markdown",
   "id": "0d35994c",
   "metadata": {},
   "source": [
    "The feature 'Pclass' is a significant feature, because distribution is almost equable"
   ]
  },
  {
   "cell_type": "code",
   "execution_count": 335,
   "id": "cf35bf82",
   "metadata": {},
   "outputs": [
    {
     "data": {
      "text/plain": [
       "<AxesSubplot:title={'center':'Distribution of number of brothers, sisters or spouses'}>"
      ]
     },
     "execution_count": 335,
     "metadata": {},
     "output_type": "execute_result"
    },
    {
     "data": {
      "image/png": "[encoded data removed]",
      "text/plain": [
       "<Figure size 720x360 with 1 Axes>"
      ]
     },
     "metadata": {
      "needs_background": "light"
     },
     "output_type": "display_data"
    }
   ],
   "source": [
    "plt.title('Distribution of number of brothers, sisters or spouses')\n",
    "passengers['SibSp'].value_counts().plot.bar(rot=0)"
   ]
  },
  {
   "cell_type": "code",
   "execution_count": 336,
   "id": "1b161cb7",
   "metadata": {},
   "outputs": [
    {
     "data": {
      "text/plain": [
       "<AxesSubplot:title={'center':'Distribution of number of parents and children'}>"
      ]
     },
     "execution_count": 336,
     "metadata": {},
     "output_type": "execute_result"
    },
    {
     "data": {
      "image/png": "[encoded data removed]",
      "text/plain": [
       "<Figure size 720x360 with 1 Axes>"
      ]
     },
     "metadata": {
      "needs_background": "light"
     },
     "output_type": "display_data"
    }
   ],
   "source": [
    "plt.title('Distribution of number of parents and children')\n",
    "passengers['Parch'].value_counts().plot.bar(rot=0)"
   ]
  },
  {
   "cell_type": "code",
   "execution_count": 337,
   "id": "13a429e2",
   "metadata": {},
   "outputs": [],
   "source": [
    "# plt.title('Distribution of ticket price')\n",
    "# passengers['Fare'].value_counts().plot.bar(rot=0)"
   ]
  },
  {
   "cell_type": "code",
   "execution_count": 338,
   "id": "04a834f9",
   "metadata": {},
   "outputs": [
    {
     "data": {
      "text/plain": [
       "<AxesSubplot:title={'center':'Distribution of Embarked place'}, xlabel='Embarked_C,Embarked_Q,Embarked_S'>"
      ]
     },
     "execution_count": 338,
     "metadata": {},
     "output_type": "execute_result"
    },
    {
     "data": {
      "image/png": "[encoded data removed]",
      "text/plain": [
       "<Figure size 720x360 with 1 Axes>"
      ]
     },
     "metadata": {
      "needs_background": "light"
     },
     "output_type": "display_data"
    }
   ],
   "source": [
    "plt.title('Distribution of Embarked place')\n",
    "passengers[['Embarked_C', 'Embarked_Q', 'Embarked_S']].value_counts().plot.bar(rot=0)"
   ]
  },
  {
   "cell_type": "markdown",
   "id": "59617e1d",
   "metadata": {},
   "source": [
    "For analysis 'Age', we divide the age into the following ranges:\n",
    "'children < 5 years old',\n",
    "\n",
    "'children < 10 years old', \n",
    "\n",
    "'children < 15 years old',\n",
    "\n",
    "'16-40 years old',\n",
    "\n",
    "'40-60 years old',\n",
    "\n",
    "'60-90 years old'"
   ]
  },
  {
   "cell_type": "code",
   "execution_count": 339,
   "id": "78fb7189",
   "metadata": {},
   "outputs": [
    {
     "data": {
      "text/html": [
       "<div>\n",
       "<style scoped>\n",
       "    .dataframe tbody tr th:only-of-type {\n",
       "        vertical-align: middle;\n",
       "    }\n",
       "\n",
       "    .dataframe tbody tr th {\n",
       "        vertical-align: top;\n",
       "    }\n",
       "\n",
       "    .dataframe thead th {\n",
       "        text-align: right;\n",
       "    }\n",
       "</style>\n",
       "<table border=\"1\" class=\"dataframe\">\n",
       "  <thead>\n",
       "    <tr style=\"text-align: right;\">\n",
       "      <th></th>\n",
       "      <th>PassengerId</th>\n",
       "      <th>Survived</th>\n",
       "      <th>Pclass</th>\n",
       "      <th>Name</th>\n",
       "      <th>Age</th>\n",
       "      <th>SibSp</th>\n",
       "      <th>Parch</th>\n",
       "      <th>Ticket</th>\n",
       "      <th>Fare</th>\n",
       "      <th>Cabin</th>\n",
       "      <th>Sex_female</th>\n",
       "      <th>Sex_male</th>\n",
       "      <th>Embarked_C</th>\n",
       "      <th>Embarked_Q</th>\n",
       "      <th>Embarked_S</th>\n",
       "      <th>Age_range</th>\n",
       "    </tr>\n",
       "  </thead>\n",
       "  <tbody>\n",
       "    <tr>\n",
       "      <th>0</th>\n",
       "      <td>0</td>\n",
       "      <td>1</td>\n",
       "      <td>1</td>\n",
       "      <td>Oconnor, Frankie</td>\n",
       "      <td>39.00</td>\n",
       "      <td>2</td>\n",
       "      <td>0</td>\n",
       "      <td>209245</td>\n",
       "      <td>27.14</td>\n",
       "      <td>C12239</td>\n",
       "      <td>0</td>\n",
       "      <td>1</td>\n",
       "      <td>0</td>\n",
       "      <td>0</td>\n",
       "      <td>1</td>\n",
       "      <td>16-40 years old</td>\n",
       "    </tr>\n",
       "    <tr>\n",
       "      <th>1</th>\n",
       "      <td>1</td>\n",
       "      <td>0</td>\n",
       "      <td>3</td>\n",
       "      <td>Bryan, Drew</td>\n",
       "      <td>39.00</td>\n",
       "      <td>0</td>\n",
       "      <td>0</td>\n",
       "      <td>27323</td>\n",
       "      <td>13.35</td>\n",
       "      <td>no cabin number</td>\n",
       "      <td>0</td>\n",
       "      <td>1</td>\n",
       "      <td>0</td>\n",
       "      <td>0</td>\n",
       "      <td>1</td>\n",
       "      <td>16-40 years old</td>\n",
       "    </tr>\n",
       "    <tr>\n",
       "      <th>2</th>\n",
       "      <td>2</td>\n",
       "      <td>0</td>\n",
       "      <td>3</td>\n",
       "      <td>Owens, Kenneth</td>\n",
       "      <td>0.33</td>\n",
       "      <td>1</td>\n",
       "      <td>2</td>\n",
       "      <td>CA 457703</td>\n",
       "      <td>71.29</td>\n",
       "      <td>no cabin number</td>\n",
       "      <td>0</td>\n",
       "      <td>1</td>\n",
       "      <td>0</td>\n",
       "      <td>0</td>\n",
       "      <td>1</td>\n",
       "      <td>children &lt; 5 years old</td>\n",
       "    </tr>\n",
       "  </tbody>\n",
       "</table>\n",
       "</div>"
      ],
      "text/plain": [
       "   PassengerId  Survived  Pclass              Name    Age  SibSp  Parch  \\\n",
       "0            0         1       1  Oconnor, Frankie  39.00      2      0   \n",
       "1            1         0       3       Bryan, Drew  39.00      0      0   \n",
       "2            2         0       3    Owens, Kenneth   0.33      1      2   \n",
       "\n",
       "      Ticket   Fare            Cabin  Sex_female  Sex_male  Embarked_C  \\\n",
       "0     209245  27.14           C12239           0         1           0   \n",
       "1      27323  13.35  no cabin number           0         1           0   \n",
       "2  CA 457703  71.29  no cabin number           0         1           0   \n",
       "\n",
       "   Embarked_Q  Embarked_S               Age_range  \n",
       "0           0           1         16-40 years old  \n",
       "1           0           1         16-40 years old  \n",
       "2           0           1  children < 5 years old  "
      ]
     },
     "execution_count": 339,
     "metadata": {},
     "output_type": "execute_result"
    }
   ],
   "source": [
    "cut_labels_4 = ['children < 5 years old', 'children < 10 years old', 'children < 15 years old',\n",
    "                '16-40 years old', '40-60 years old', '60-90 years old']\n",
    "cut_bins = [0, 5, 10, 15, 40, 60, 90]\n",
    "passengers['Age_range'] = pd.cut(passengers['Age'], bins=cut_bins, labels=cut_labels_4)\n",
    "passengers.head(3)\n"
   ]
  },
  {
   "cell_type": "code",
   "execution_count": 410,
   "id": "fa6cb848",
   "metadata": {},
   "outputs": [
    {
     "data": {
      "text/plain": [
       "<AxesSubplot:title={'center':'Distribution of passengers by Age'}>"
      ]
     },
     "execution_count": 410,
     "metadata": {},
     "output_type": "execute_result"
    },
    {
     "data": {
      "image/png": "[encoded data removed]",
      "text/plain": [
       "<Figure size 720x360 with 1 Axes>"
      ]
     },
     "metadata": {
      "needs_background": "light"
     },
     "output_type": "display_data"
    }
   ],
   "source": [
    "plt.title('Distribution of passengers by Age')\n",
    "passengers['Age_range'].value_counts().plot.bar(rot=60)\n"
   ]
  },
  {
   "cell_type": "markdown",
   "id": "5d9b0311",
   "metadata": {},
   "source": [
    "We can make several conclusions:\n",
    "1. Survived peaple are less than dead\n",
    "2. More men than women\n",
    "3. The most of passengers are from 3 class\n",
    "4. The most of people are single (without family and children)\n",
    "5. Most of people are embarked in Southampton\n",
    "6. Most of people are of the middle age"
   ]
  },
  {
   "cell_type": "markdown",
   "id": "c61b6772",
   "metadata": {},
   "source": [
    "### Assessment of the relationship between each variable and the target variable"
   ]
  },
  {
   "cell_type": "code",
   "execution_count": 341,
   "id": "0b6c6100",
   "metadata": {},
   "outputs": [
    {
     "data": {
      "text/plain": [
       "<AxesSubplot:title={'center':'Relationship between Sex and target Survived'}, xlabel='Sex_male', ylabel='Survived'>"
      ]
     },
     "execution_count": 341,
     "metadata": {},
     "output_type": "execute_result"
    },
    {
     "data": {
      "image/png": "[encoded data removed]",
      "text/plain": [
       "<Figure size 720x360 with 1 Axes>"
      ]
     },
     "metadata": {
      "needs_background": "light"
     },
     "output_type": "display_data"
    }
   ],
   "source": [
    "plt.title('Relationship between Sex and target Survived')\n",
    "sns.barplot(x=passengers['Sex_male'], y=passengers['Survived'])"
   ]
  },
  {
   "cell_type": "code",
   "execution_count": 342,
   "id": "89f1e875",
   "metadata": {
    "scrolled": true
   },
   "outputs": [
    {
     "data": {
      "text/plain": [
       "<AxesSubplot:title={'center':'Relationship between cabin class and target Survived'}, xlabel='Pclass', ylabel='Survived'>"
      ]
     },
     "execution_count": 342,
     "metadata": {},
     "output_type": "execute_result"
    },
    {
     "data": {
      "image/png": "[encoded data removed]",
      "text/plain": [
       "<Figure size 720x360 with 1 Axes>"
      ]
     },
     "metadata": {
      "needs_background": "light"
     },
     "output_type": "display_data"
    }
   ],
   "source": [
    "plt.title('Relationship between cabin class and target Survived')\n",
    "sns.barplot(x=passengers['Pclass'], y=passengers['Survived'])"
   ]
  },
  {
   "cell_type": "code",
   "execution_count": 343,
   "id": "b80f57fe",
   "metadata": {},
   "outputs": [
    {
     "data": {
      "text/plain": [
       "<AxesSubplot:xlabel='Pclass'>"
      ]
     },
     "execution_count": 343,
     "metadata": {},
     "output_type": "execute_result"
    },
    {
     "data": {
      "image/png": "[encoded data removed]",
      "text/plain": [
       "<Figure size 720x360 with 1 Axes>"
      ]
     },
     "metadata": {
      "needs_background": "light"
     },
     "output_type": "display_data"
    }
   ],
   "source": [
    "passengers.pivot_table('PassengerId', 'Pclass', 'Survived', 'count').plot(kind='bar', stacked=True)"
   ]
  },
  {
   "cell_type": "code",
   "execution_count": 344,
   "id": "fd4a0ba0",
   "metadata": {},
   "outputs": [
    {
     "data": {
      "text/plain": [
       "<AxesSubplot:title={'center':'Relationship between SibSp and target Survived'}, xlabel='SibSp', ylabel='Survived'>"
      ]
     },
     "execution_count": 344,
     "metadata": {},
     "output_type": "execute_result"
    },
    {
     "data": {
      "image/png": "[encoded data removed]",
      "text/plain": [
       "<Figure size 720x360 with 1 Axes>"
      ]
     },
     "metadata": {
      "needs_background": "light"
     },
     "output_type": "display_data"
    }
   ],
   "source": [
    "plt.title('Relationship between SibSp and target Survived')\n",
    "sns.barplot(x=passengers['SibSp'], y=passengers['Survived'])"
   ]
  },
  {
   "cell_type": "code",
   "execution_count": 345,
   "id": "87561c01",
   "metadata": {},
   "outputs": [
    {
     "data": {
      "text/plain": [
       "<AxesSubplot:title={'center':'Relationship between Parch and target Survived'}, xlabel='Parch', ylabel='Survived'>"
      ]
     },
     "execution_count": 345,
     "metadata": {},
     "output_type": "execute_result"
    },
    {
     "data": {
      "image/png": "[encoded data removed]",
      "text/plain": [
       "<Figure size 720x360 with 1 Axes>"
      ]
     },
     "metadata": {
      "needs_background": "light"
     },
     "output_type": "display_data"
    }
   ],
   "source": [
    "plt.title('Relationship between Parch and target Survived')\n",
    "sns.barplot(x=passengers['Parch'], y=passengers['Survived'])"
   ]
  },
  {
   "cell_type": "code",
   "execution_count": 346,
   "id": "fad98cac",
   "metadata": {},
   "outputs": [
    {
     "data": {
      "text/plain": [
       "<AxesSubplot:title={'center':'Parch'}, xlabel='Parch'>"
      ]
     },
     "execution_count": 346,
     "metadata": {},
     "output_type": "execute_result"
    },
    {
     "data": {
      "text/plain": [
       "<Figure size 1008x432 with 0 Axes>"
      ]
     },
     "metadata": {},
     "output_type": "display_data"
    },
    {
     "data": {
      "image/png": "[encoded data removed]",
      "text/plain": [
       "<Figure size 720x360 with 2 Axes>"
      ]
     },
     "metadata": {
      "needs_background": "light"
     },
     "output_type": "display_data"
    }
   ],
   "source": [
    "plt.figure(figsize=(14,6))\n",
    "fig, axes = plt.subplots(ncols=2)\n",
    "\n",
    "passengers.pivot_table('PassengerId', ['SibSp'], 'Survived', 'count').plot(ax=axes[0], title='SibSp')\n",
    "passengers.pivot_table('PassengerId', ['Parch'], 'Survived', 'count').plot(ax=axes[1], title='Parch')"
   ]
  },
  {
   "cell_type": "markdown",
   "id": "25f44daa",
   "metadata": {},
   "source": [
    "We can see that people with more than 1 relatives were saved less than single persons"
   ]
  },
  {
   "cell_type": "code",
   "execution_count": 426,
   "id": "8fddd356",
   "metadata": {},
   "outputs": [
    {
     "data": {
      "text/plain": [
       "<AxesSubplot:xlabel='Age_range'>"
      ]
     },
     "execution_count": 426,
     "metadata": {},
     "output_type": "execute_result"
    },
    {
     "data": {
      "image/png": "[encoded data removed]",
      "text/plain": [
       "<Figure size 720x360 with 1 Axes>"
      ]
     },
     "metadata": {
      "needs_background": "light"
     },
     "output_type": "display_data"
    }
   ],
   "source": [
    "passengers.pivot_table('PassengerId', 'Age_range', 'Survived', 'count').plot(kind='bar', stacked=True, rot=60)\n"
   ]
  },
  {
   "cell_type": "code",
   "execution_count": 427,
   "id": "8e77d6e9",
   "metadata": {},
   "outputs": [
    {
     "data": {
      "text/plain": [
       "<AxesSubplot:xlabel='Age_range'>"
      ]
     },
     "execution_count": 427,
     "metadata": {},
     "output_type": "execute_result"
    },
    {
     "data": {
      "image/png": "[encoded data removed]",
      "text/plain": [
       "<Figure size 720x360 with 1 Axes>"
      ]
     },
     "metadata": {
      "needs_background": "light"
     },
     "output_type": "display_data"
    }
   ],
   "source": [
    "passengers[passengers.Sex_female == 1].pivot_table('PassengerId', 'Age_range', 'Survived', 'count').plot(kind='bar',\n",
    "                                                                                                         stacked=True,\n",
    "                                                                                                        rot=60)"
   ]
  },
  {
   "cell_type": "markdown",
   "id": "641e74f7",
   "metadata": {},
   "source": [
    "Let's look up at corralation between each variable and target 'Survived'"
   ]
  },
  {
   "cell_type": "code",
   "execution_count": 407,
   "id": "5493e65f",
   "metadata": {},
   "outputs": [
    {
     "data": {
      "image/png": "[encoded data removed]",
      "text/plain": [
       "<Figure size 576x864 with 2 Axes>"
      ]
     },
     "metadata": {
      "needs_background": "light"
     },
     "output_type": "display_data"
    }
   ],
   "source": [
    "plt.figure(figsize=(8, 12))\n",
    "heatmap = sns.heatmap(passengers.corr()[['Survived']].sort_values(by='Survived', ascending=False),\n",
    "                      vmin=-1, vmax=1, annot=True, cmap='BrBG')\n",
    "\n",
    "heatmap.set_title('Features Correlating with Survived', fontdict={'fontsize':10}, pad=5);"
   ]
  },
  {
   "cell_type": "markdown",
   "id": "ed3e309a",
   "metadata": {},
   "source": [
    "We can see the hightest corralation 0.51 is with variable 'Sex'"
   ]
  },
  {
   "cell_type": "markdown",
   "id": "b055f5bd",
   "metadata": {},
   "source": [
    "We can make several conclusions:\n",
    "1. More survived are female\n",
    "2. Less survived are in 3 class\n",
    "3. Number survived people depends on Pclass (higher the class -  more people to be saved)\n",
    "4. Less survived are in SibSp == 5\n",
    "5. Less survived are in Parch == 6\n",
    "6. People with more than 1 relatives were saved less than single persons\n",
    "7. Age influences surviving less than sex\n",
    "8. The hightest corralation 0.51 is with variable 'Sex'"
   ]
  },
  {
   "cell_type": "markdown",
   "id": "de2628f2",
   "metadata": {},
   "source": [
    "### Assessment of the interaction between variables"
   ]
  },
  {
   "cell_type": "markdown",
   "id": "8aabf7e7",
   "metadata": {},
   "source": [
    "Let's calculate the number of single men and single women"
   ]
  },
  {
   "cell_type": "code",
   "execution_count": 380,
   "id": "ac76ff86",
   "metadata": {},
   "outputs": [
    {
     "name": "stdout",
     "output_type": "stream",
     "text": [
      "Single women in persents 55.83 %\n",
      "Single men in persents 66.58 %\n"
     ]
    }
   ],
   "source": [
    "single_women = len(passengers.loc[(passengers.SibSp == 0) \n",
    "                              & (passengers.Parch == 0) \n",
    "                              & (passengers.Sex_female == 1)])\n",
    "women = len(passengers.loc[(passengers.Sex_female == 1)])\n",
    "single_women_persents = single_women/women*100\n",
    "\n",
    "single_men = len(passengers.loc[(passengers.SibSp == 0) \n",
    "                              & (passengers.Parch == 0) \n",
    "                              & (passengers.Sex_male == 1)])\n",
    "men = len(passengers.loc[(passengers.Sex_male == 1)])\n",
    "single_men_persents = single_men/men*100\n",
    "print('Single women in persents', round(single_women_persents,2), '%')\n",
    "print('Single men in persents', round(single_men_persents,2), '%')\n"
   ]
  },
  {
   "cell_type": "markdown",
   "id": "242952c3",
   "metadata": {},
   "source": [
    "Let's take a look at number of single men and single women in different Pclass"
   ]
  },
  {
   "cell_type": "code",
   "execution_count": 424,
   "id": "42d182eb",
   "metadata": {},
   "outputs": [],
   "source": [
    "single_women_Pclass = passengers[(passengers.SibSp == 0) \n",
    "                              & (passengers.Parch == 0) \n",
    "                              & (passengers.Sex_female == 1)].groupby(passengers.Pclass).agg(np.size)\n",
    "single_women_Pclass\n",
    "\n",
    "single_men_Pclass = passengers[(passengers.SibSp == 0) \n",
    "                              & (passengers.Parch == 0) \n",
    "                              & (passengers.Sex_male == 1)].groupby(passengers.Pclass).agg(np.size)"
   ]
  },
  {
   "cell_type": "code",
   "execution_count": 425,
   "id": "ca6515bd",
   "metadata": {},
   "outputs": [
    {
     "data": {
      "text/plain": [
       "Text(0.5, 1.0, 'Women')"
      ]
     },
     "execution_count": 425,
     "metadata": {},
     "output_type": "execute_result"
    },
    {
     "data": {
      "image/png": "[encoded data removed]",
      "text/plain": [
       "<Figure size 1080x360 with 2 Axes>"
      ]
     },
     "metadata": {
      "needs_background": "light"
     },
     "output_type": "display_data"
    }
   ],
   "source": [
    "fig, axes = plt.subplots(1, 2, figsize=(15, 5), sharey=True)\n",
    "fig.suptitle('Single person in different Pclass')\n",
    "\n",
    "# Men\n",
    "single_men_Pclass['PassengerId'].plot(ax=axes[0],kind='bar', rot=0)\n",
    "axes[0].set_title('Men')\n",
    "# Women\n",
    "single_women_Pclass['PassengerId'].plot(ax=axes[1],kind='bar', rot=0)\n",
    "axes[1].set_title('Women')\n"
   ]
  },
  {
   "cell_type": "markdown",
   "id": "8d419b50",
   "metadata": {},
   "source": [
    "As we can see, single women are evenly distributed across Pclass, but single men mostly are in 3 Pclass. These men can be poor people looking for a best life."
   ]
  },
  {
   "cell_type": "code",
   "execution_count": 297,
   "id": "774b7561",
   "metadata": {},
   "outputs": [],
   "source": [
    "# семейные и с детьми и более высокий класс"
   ]
  },
  {
   "cell_type": "code",
   "execution_count": 298,
   "id": "05b76658",
   "metadata": {},
   "outputs": [],
   "source": []
  },
  {
   "cell_type": "code",
   "execution_count": 299,
   "id": "7f16d1d2",
   "metadata": {},
   "outputs": [],
   "source": [
    "#  Сколько выжило одиноких пассажиров (в зависимости от мужчин и женщин)"
   ]
  },
  {
   "cell_type": "code",
   "execution_count": 300,
   "id": "68834ad6",
   "metadata": {},
   "outputs": [],
   "source": [
    "# В каком клссе больше мужчинб женщин, детей, с братьями и сестрами"
   ]
  },
  {
   "cell_type": "markdown",
   "id": "c627b3dc",
   "metadata": {},
   "source": [
    "We can make several conclusions:\n",
    "1. There are more than 66 % of single men and about 55% of single women\n",
    "2. Single women are evenly distributed across Pclass\n",
    "3. Single men mostly are in 3 Pclass"
   ]
  },
  {
   "cell_type": "code",
   "execution_count": null,
   "id": "3e97f50a",
   "metadata": {},
   "outputs": [],
   "source": []
  },
  {
   "cell_type": "code",
   "execution_count": 301,
   "id": "0e20e23e",
   "metadata": {},
   "outputs": [
    {
     "data": {
      "text/html": [
       "<div>\n",
       "<style scoped>\n",
       "    .dataframe tbody tr th:only-of-type {\n",
       "        vertical-align: middle;\n",
       "    }\n",
       "\n",
       "    .dataframe tbody tr th {\n",
       "        vertical-align: top;\n",
       "    }\n",
       "\n",
       "    .dataframe thead th {\n",
       "        text-align: right;\n",
       "    }\n",
       "</style>\n",
       "<table border=\"1\" class=\"dataframe\">\n",
       "  <thead>\n",
       "    <tr style=\"text-align: right;\">\n",
       "      <th></th>\n",
       "      <th>PassengerId</th>\n",
       "      <th>Survived</th>\n",
       "      <th>Pclass</th>\n",
       "      <th>Name</th>\n",
       "      <th>Age</th>\n",
       "      <th>SibSp</th>\n",
       "      <th>Parch</th>\n",
       "      <th>Ticket</th>\n",
       "      <th>Fare</th>\n",
       "      <th>Cabin</th>\n",
       "      <th>Sex_female</th>\n",
       "      <th>Sex_male</th>\n",
       "      <th>Embarked_C</th>\n",
       "      <th>Embarked_Q</th>\n",
       "      <th>Embarked_S</th>\n",
       "      <th>Age_range</th>\n",
       "    </tr>\n",
       "  </thead>\n",
       "  <tbody>\n",
       "    <tr>\n",
       "      <th>0</th>\n",
       "      <td>0</td>\n",
       "      <td>1</td>\n",
       "      <td>1</td>\n",
       "      <td>Oconnor, Frankie</td>\n",
       "      <td>39.00</td>\n",
       "      <td>2</td>\n",
       "      <td>0</td>\n",
       "      <td>209245</td>\n",
       "      <td>27.14</td>\n",
       "      <td>C12239</td>\n",
       "      <td>0</td>\n",
       "      <td>1</td>\n",
       "      <td>0</td>\n",
       "      <td>0</td>\n",
       "      <td>1</td>\n",
       "      <td>16-40 years old</td>\n",
       "    </tr>\n",
       "    <tr>\n",
       "      <th>1</th>\n",
       "      <td>1</td>\n",
       "      <td>0</td>\n",
       "      <td>3</td>\n",
       "      <td>Bryan, Drew</td>\n",
       "      <td>39.00</td>\n",
       "      <td>0</td>\n",
       "      <td>0</td>\n",
       "      <td>27323</td>\n",
       "      <td>13.35</td>\n",
       "      <td>no cabin number</td>\n",
       "      <td>0</td>\n",
       "      <td>1</td>\n",
       "      <td>0</td>\n",
       "      <td>0</td>\n",
       "      <td>1</td>\n",
       "      <td>16-40 years old</td>\n",
       "    </tr>\n",
       "    <tr>\n",
       "      <th>2</th>\n",
       "      <td>2</td>\n",
       "      <td>0</td>\n",
       "      <td>3</td>\n",
       "      <td>Owens, Kenneth</td>\n",
       "      <td>0.33</td>\n",
       "      <td>1</td>\n",
       "      <td>2</td>\n",
       "      <td>CA 457703</td>\n",
       "      <td>71.29</td>\n",
       "      <td>no cabin number</td>\n",
       "      <td>0</td>\n",
       "      <td>1</td>\n",
       "      <td>0</td>\n",
       "      <td>0</td>\n",
       "      <td>1</td>\n",
       "      <td>children &lt; 5 years old</td>\n",
       "    </tr>\n",
       "    <tr>\n",
       "      <th>3</th>\n",
       "      <td>3</td>\n",
       "      <td>0</td>\n",
       "      <td>3</td>\n",
       "      <td>Kramer, James</td>\n",
       "      <td>19.00</td>\n",
       "      <td>0</td>\n",
       "      <td>0</td>\n",
       "      <td>A. 10866</td>\n",
       "      <td>13.04</td>\n",
       "      <td>no cabin number</td>\n",
       "      <td>0</td>\n",
       "      <td>1</td>\n",
       "      <td>0</td>\n",
       "      <td>0</td>\n",
       "      <td>1</td>\n",
       "      <td>16-40 years old</td>\n",
       "    </tr>\n",
       "    <tr>\n",
       "      <th>4</th>\n",
       "      <td>4</td>\n",
       "      <td>1</td>\n",
       "      <td>3</td>\n",
       "      <td>Bond, Michael</td>\n",
       "      <td>25.00</td>\n",
       "      <td>0</td>\n",
       "      <td>0</td>\n",
       "      <td>427635</td>\n",
       "      <td>7.76</td>\n",
       "      <td>no cabin number</td>\n",
       "      <td>0</td>\n",
       "      <td>1</td>\n",
       "      <td>0</td>\n",
       "      <td>0</td>\n",
       "      <td>1</td>\n",
       "      <td>16-40 years old</td>\n",
       "    </tr>\n",
       "  </tbody>\n",
       "</table>\n",
       "</div>"
      ],
      "text/plain": [
       "   PassengerId  Survived  Pclass              Name    Age  SibSp  Parch  \\\n",
       "0            0         1       1  Oconnor, Frankie  39.00      2      0   \n",
       "1            1         0       3       Bryan, Drew  39.00      0      0   \n",
       "2            2         0       3    Owens, Kenneth   0.33      1      2   \n",
       "3            3         0       3     Kramer, James  19.00      0      0   \n",
       "4            4         1       3     Bond, Michael  25.00      0      0   \n",
       "\n",
       "      Ticket   Fare            Cabin  Sex_female  Sex_male  Embarked_C  \\\n",
       "0     209245  27.14           C12239           0         1           0   \n",
       "1      27323  13.35  no cabin number           0         1           0   \n",
       "2  CA 457703  71.29  no cabin number           0         1           0   \n",
       "3   A. 10866  13.04  no cabin number           0         1           0   \n",
       "4     427635   7.76  no cabin number           0         1           0   \n",
       "\n",
       "   Embarked_Q  Embarked_S               Age_range  \n",
       "0           0           1         16-40 years old  \n",
       "1           0           1         16-40 years old  \n",
       "2           0           1  children < 5 years old  \n",
       "3           0           1         16-40 years old  \n",
       "4           0           1         16-40 years old  "
      ]
     },
     "execution_count": 301,
     "metadata": {},
     "output_type": "execute_result"
    }
   ],
   "source": [
    "passengers.head()"
   ]
  },
  {
   "cell_type": "markdown",
   "id": "034945c8",
   "metadata": {},
   "source": [
    "# Summary"
   ]
  },
  {
   "cell_type": "markdown",
   "id": "b6d200a6",
   "metadata": {},
   "source": [
    "1. Целевая переменная 'Survived' хорошая, т.к.распределение примерно 50 на 50 ??????????где я это написала\n",
    "2. Признак 'Sex' является существенным признаком, т.к. распределение примерно 50 на 50\n",
    "3. Признак 'Pclass' является существенным признаком, т.к. распределение примерно равномерное\n"
   ]
  },
  {
   "cell_type": "code",
   "execution_count": null,
   "id": "cdd0e52d",
   "metadata": {},
   "outputs": [],
   "source": []
  },
  {
   "cell_type": "code",
   "execution_count": null,
   "id": "6fdff90a",
   "metadata": {},
   "outputs": [],
   "source": []
  }
 ],
 "metadata": {
  "kernelspec": {
   "display_name": "Python 3 (ipykernel)",
   "language": "python",
   "name": "python3"
  },
  "language_info": {
   "codemirror_mode": {
    "name": "ipython",
    "version": 3
   },
   "file_extension": ".py",
   "mimetype": "text/x-python",
   "name": "python",
   "nbconvert_exporter": "python",
   "pygments_lexer": "ipython3",
   "version": "3.9.7"
  },
  "toc": {
   "base_numbering": 1,
   "nav_menu": {},
   "number_sections": true,
   "sideBar": true,
   "skip_h1_title": false,
   "title_cell": "Table of Contents",
   "title_sidebar": "Contents",
   "toc_cell": false,
   "toc_position": {},
   "toc_section_display": true,
   "toc_window_display": false
  }
 },
 "nbformat": 4,
 "nbformat_minor": 5
}
