{
 "cells": [
  {
   "cell_type": "code",
   "execution_count": 1,
   "id": "f0c21a2b",
   "metadata": {},
   "outputs": [],
   "source": [
    "# https://github.com/pmstangmailcom/rs_school/blob/main/EDA_data_exploration.ipynb\n",
    "#     link submit\n"
   ]
  },
  {
   "cell_type": "code",
   "execution_count": 2,
   "id": "b489cb9e",
   "metadata": {},
   "outputs": [],
   "source": [
    "import numpy as np\n",
    "import pandas as pd\n",
    "import matplotlib\n",
    "import matplotlib.pyplot as plt\n",
    "import seaborn as sns\n",
    "# import os\n",
    "%matplotlib inline"
   ]
  },
  {
   "cell_type": "code",
   "execution_count": 3,
   "id": "c4f8bf3a",
   "metadata": {},
   "outputs": [
    {
     "data": {
      "text/html": [
       "<div>\n",
       "<style scoped>\n",
       "    .dataframe tbody tr th:only-of-type {\n",
       "        vertical-align: middle;\n",
       "    }\n",
       "\n",
       "    .dataframe tbody tr th {\n",
       "        vertical-align: top;\n",
       "    }\n",
       "\n",
       "    .dataframe thead th {\n",
       "        text-align: right;\n",
       "    }\n",
       "</style>\n",
       "<table border=\"1\" class=\"dataframe\">\n",
       "  <thead>\n",
       "    <tr style=\"text-align: right;\">\n",
       "      <th></th>\n",
       "      <th>PassengerId</th>\n",
       "      <th>Survived</th>\n",
       "      <th>Pclass</th>\n",
       "      <th>Name</th>\n",
       "      <th>Sex</th>\n",
       "      <th>Age</th>\n",
       "      <th>SibSp</th>\n",
       "      <th>Parch</th>\n",
       "      <th>Ticket</th>\n",
       "      <th>Fare</th>\n",
       "      <th>Cabin</th>\n",
       "      <th>Embarked</th>\n",
       "    </tr>\n",
       "  </thead>\n",
       "  <tbody>\n",
       "    <tr>\n",
       "      <th>0</th>\n",
       "      <td>0</td>\n",
       "      <td>1</td>\n",
       "      <td>1</td>\n",
       "      <td>Oconnor, Frankie</td>\n",
       "      <td>male</td>\n",
       "      <td>NaN</td>\n",
       "      <td>2</td>\n",
       "      <td>0</td>\n",
       "      <td>209245</td>\n",
       "      <td>27.14</td>\n",
       "      <td>C12239</td>\n",
       "      <td>S</td>\n",
       "    </tr>\n",
       "    <tr>\n",
       "      <th>1</th>\n",
       "      <td>1</td>\n",
       "      <td>0</td>\n",
       "      <td>3</td>\n",
       "      <td>Bryan, Drew</td>\n",
       "      <td>male</td>\n",
       "      <td>NaN</td>\n",
       "      <td>0</td>\n",
       "      <td>0</td>\n",
       "      <td>27323</td>\n",
       "      <td>13.35</td>\n",
       "      <td>NaN</td>\n",
       "      <td>S</td>\n",
       "    </tr>\n",
       "    <tr>\n",
       "      <th>2</th>\n",
       "      <td>2</td>\n",
       "      <td>0</td>\n",
       "      <td>3</td>\n",
       "      <td>Owens, Kenneth</td>\n",
       "      <td>male</td>\n",
       "      <td>0.33</td>\n",
       "      <td>1</td>\n",
       "      <td>2</td>\n",
       "      <td>CA 457703</td>\n",
       "      <td>71.29</td>\n",
       "      <td>NaN</td>\n",
       "      <td>S</td>\n",
       "    </tr>\n",
       "    <tr>\n",
       "      <th>3</th>\n",
       "      <td>3</td>\n",
       "      <td>0</td>\n",
       "      <td>3</td>\n",
       "      <td>Kramer, James</td>\n",
       "      <td>male</td>\n",
       "      <td>19.00</td>\n",
       "      <td>0</td>\n",
       "      <td>0</td>\n",
       "      <td>A. 10866</td>\n",
       "      <td>13.04</td>\n",
       "      <td>NaN</td>\n",
       "      <td>S</td>\n",
       "    </tr>\n",
       "    <tr>\n",
       "      <th>4</th>\n",
       "      <td>4</td>\n",
       "      <td>1</td>\n",
       "      <td>3</td>\n",
       "      <td>Bond, Michael</td>\n",
       "      <td>male</td>\n",
       "      <td>25.00</td>\n",
       "      <td>0</td>\n",
       "      <td>0</td>\n",
       "      <td>427635</td>\n",
       "      <td>7.76</td>\n",
       "      <td>NaN</td>\n",
       "      <td>S</td>\n",
       "    </tr>\n",
       "  </tbody>\n",
       "</table>\n",
       "</div>"
      ],
      "text/plain": [
       "   PassengerId  Survived  Pclass              Name   Sex    Age  SibSp  Parch  \\\n",
       "0            0         1       1  Oconnor, Frankie  male    NaN      2      0   \n",
       "1            1         0       3       Bryan, Drew  male    NaN      0      0   \n",
       "2            2         0       3    Owens, Kenneth  male   0.33      1      2   \n",
       "3            3         0       3     Kramer, James  male  19.00      0      0   \n",
       "4            4         1       3     Bond, Michael  male  25.00      0      0   \n",
       "\n",
       "      Ticket   Fare   Cabin Embarked  \n",
       "0     209245  27.14  C12239        S  \n",
       "1      27323  13.35     NaN        S  \n",
       "2  CA 457703  71.29     NaN        S  \n",
       "3   A. 10866  13.04     NaN        S  \n",
       "4     427635   7.76     NaN        S  "
      ]
     },
     "execution_count": 3,
     "metadata": {},
     "output_type": "execute_result"
    }
   ],
   "source": [
    "passengers_before_cleaning = pd.read_csv('EDA_data_exploration_data.csv')\n",
    "passengers_before_cleaning.head()"
   ]
  },
  {
   "cell_type": "markdown",
   "id": "d07912a0",
   "metadata": {},
   "source": [
    "# Context"
   ]
  },
  {
   "cell_type": "markdown",
   "id": "d02426d9",
   "metadata": {},
   "source": [
    "The dataset contains ??????????????????? список пассажиров теплохода (парохода) \"Titanic\". В предложенном датасете собрана информация о самих пассажирах (признаки), а также о том, выжили они или нет (целевая переменная).\n",
    "Labels to note:\n",
    "\n",
    "PassengerId – id пассажира\n",
    "Survived – погиб (0) или выжил (1)\n",
    "Pclass – класс билета (первый (1), второй (2) или третий (3))\n",
    "Name – имя пассажира\n",
    "Sex – пол\n",
    "Age – возраст\n",
    "SibSp -  количество братьев и сестер или супругов на борту\n",
    "Parch - количество родителей и детей на борту\n",
    "Ticket – номер билета\n",
    "Fare - стоимость билета\n",
    "Cabin - номер каюты\n",
    "Embarked – порт посадки (C – Шербур; Q – Квинстаун; S – Саутгемптон)\n",
    "\n",
    "\n",
    "Сделать EDA"
   ]
  },
  {
   "cell_type": "code",
   "execution_count": 4,
   "id": "78fe15c2",
   "metadata": {},
   "outputs": [
    {
     "name": "stdout",
     "output_type": "stream",
     "text": [
      "<class 'pandas.core.frame.DataFrame'>\n",
      "RangeIndex: 100000 entries, 0 to 99999\n",
      "Data columns (total 12 columns):\n",
      " #   Column       Non-Null Count   Dtype  \n",
      "---  ------       --------------   -----  \n",
      " 0   PassengerId  100000 non-null  int64  \n",
      " 1   Survived     100000 non-null  int64  \n",
      " 2   Pclass       100000 non-null  int64  \n",
      " 3   Name         100000 non-null  object \n",
      " 4   Sex          100000 non-null  object \n",
      " 5   Age          96708 non-null   float64\n",
      " 6   SibSp        100000 non-null  int64  \n",
      " 7   Parch        100000 non-null  int64  \n",
      " 8   Ticket       95377 non-null   object \n",
      " 9   Fare         99866 non-null   float64\n",
      " 10  Cabin        32134 non-null   object \n",
      " 11  Embarked     99750 non-null   object \n",
      "dtypes: float64(2), int64(5), object(5)\n",
      "memory usage: 9.2+ MB\n"
     ]
    }
   ],
   "source": [
    "passengers_before_cleaning.info()"
   ]
  },
  {
   "cell_type": "markdown",
   "id": "3465c498",
   "metadata": {},
   "source": [
    "Как мы видим, у нас 12 переменных. Одна из них (Survived) – зависимая (целевая), остальные – независимые (признаки).\n",
    "Всего в датасете 100000 записей, при этом в нескольких переменных есть пропуски.\n",
    "As we can see, there are a few columns with null values."
   ]
  },
  {
   "cell_type": "code",
   "execution_count": 5,
   "id": "312eece6",
   "metadata": {},
   "outputs": [
    {
     "data": {
      "text/html": [
       "<div>\n",
       "<style scoped>\n",
       "    .dataframe tbody tr th:only-of-type {\n",
       "        vertical-align: middle;\n",
       "    }\n",
       "\n",
       "    .dataframe tbody tr th {\n",
       "        vertical-align: top;\n",
       "    }\n",
       "\n",
       "    .dataframe thead th {\n",
       "        text-align: right;\n",
       "    }\n",
       "</style>\n",
       "<table border=\"1\" class=\"dataframe\">\n",
       "  <thead>\n",
       "    <tr style=\"text-align: right;\">\n",
       "      <th></th>\n",
       "      <th>PassengerId</th>\n",
       "      <th>Survived</th>\n",
       "      <th>Pclass</th>\n",
       "      <th>Age</th>\n",
       "      <th>SibSp</th>\n",
       "      <th>Parch</th>\n",
       "      <th>Fare</th>\n",
       "    </tr>\n",
       "  </thead>\n",
       "  <tbody>\n",
       "    <tr>\n",
       "      <th>count</th>\n",
       "      <td>100000.000000</td>\n",
       "      <td>100000.000000</td>\n",
       "      <td>100000.000000</td>\n",
       "      <td>96708.000000</td>\n",
       "      <td>100000.000000</td>\n",
       "      <td>100000.000000</td>\n",
       "      <td>99866.00000</td>\n",
       "    </tr>\n",
       "    <tr>\n",
       "      <th>mean</th>\n",
       "      <td>49999.500000</td>\n",
       "      <td>0.427740</td>\n",
       "      <td>2.106910</td>\n",
       "      <td>38.355472</td>\n",
       "      <td>0.397690</td>\n",
       "      <td>0.454560</td>\n",
       "      <td>43.92933</td>\n",
       "    </tr>\n",
       "    <tr>\n",
       "      <th>std</th>\n",
       "      <td>28867.657797</td>\n",
       "      <td>0.494753</td>\n",
       "      <td>0.837727</td>\n",
       "      <td>18.313556</td>\n",
       "      <td>0.862566</td>\n",
       "      <td>0.950076</td>\n",
       "      <td>69.58882</td>\n",
       "    </tr>\n",
       "    <tr>\n",
       "      <th>min</th>\n",
       "      <td>0.000000</td>\n",
       "      <td>0.000000</td>\n",
       "      <td>1.000000</td>\n",
       "      <td>0.080000</td>\n",
       "      <td>0.000000</td>\n",
       "      <td>0.000000</td>\n",
       "      <td>0.68000</td>\n",
       "    </tr>\n",
       "    <tr>\n",
       "      <th>25%</th>\n",
       "      <td>24999.750000</td>\n",
       "      <td>0.000000</td>\n",
       "      <td>1.000000</td>\n",
       "      <td>25.000000</td>\n",
       "      <td>0.000000</td>\n",
       "      <td>0.000000</td>\n",
       "      <td>10.04000</td>\n",
       "    </tr>\n",
       "    <tr>\n",
       "      <th>50%</th>\n",
       "      <td>49999.500000</td>\n",
       "      <td>0.000000</td>\n",
       "      <td>2.000000</td>\n",
       "      <td>39.000000</td>\n",
       "      <td>0.000000</td>\n",
       "      <td>0.000000</td>\n",
       "      <td>24.46000</td>\n",
       "    </tr>\n",
       "    <tr>\n",
       "      <th>75%</th>\n",
       "      <td>74999.250000</td>\n",
       "      <td>1.000000</td>\n",
       "      <td>3.000000</td>\n",
       "      <td>53.000000</td>\n",
       "      <td>1.000000</td>\n",
       "      <td>1.000000</td>\n",
       "      <td>33.50000</td>\n",
       "    </tr>\n",
       "    <tr>\n",
       "      <th>max</th>\n",
       "      <td>99999.000000</td>\n",
       "      <td>1.000000</td>\n",
       "      <td>3.000000</td>\n",
       "      <td>87.000000</td>\n",
       "      <td>8.000000</td>\n",
       "      <td>9.000000</td>\n",
       "      <td>744.66000</td>\n",
       "    </tr>\n",
       "  </tbody>\n",
       "</table>\n",
       "</div>"
      ],
      "text/plain": [
       "         PassengerId       Survived         Pclass           Age  \\\n",
       "count  100000.000000  100000.000000  100000.000000  96708.000000   \n",
       "mean    49999.500000       0.427740       2.106910     38.355472   \n",
       "std     28867.657797       0.494753       0.837727     18.313556   \n",
       "min         0.000000       0.000000       1.000000      0.080000   \n",
       "25%     24999.750000       0.000000       1.000000     25.000000   \n",
       "50%     49999.500000       0.000000       2.000000     39.000000   \n",
       "75%     74999.250000       1.000000       3.000000     53.000000   \n",
       "max     99999.000000       1.000000       3.000000     87.000000   \n",
       "\n",
       "               SibSp          Parch         Fare  \n",
       "count  100000.000000  100000.000000  99866.00000  \n",
       "mean        0.397690       0.454560     43.92933  \n",
       "std         0.862566       0.950076     69.58882  \n",
       "min         0.000000       0.000000      0.68000  \n",
       "25%         0.000000       0.000000     10.04000  \n",
       "50%         0.000000       0.000000     24.46000  \n",
       "75%         1.000000       1.000000     33.50000  \n",
       "max         8.000000       9.000000    744.66000  "
      ]
     },
     "execution_count": 5,
     "metadata": {},
     "output_type": "execute_result"
    }
   ],
   "source": [
    "passengers_before_cleaning.describe()"
   ]
  },
  {
   "cell_type": "markdown",
   "id": "9b4320c6",
   "metadata": {},
   "source": [
    "# Data quality assessment"
   ]
  },
  {
   "cell_type": "markdown",
   "id": "abd42dc1",
   "metadata": {},
   "source": [
    "Посмотрим и удалим дубликаты"
   ]
  },
  {
   "cell_type": "code",
   "execution_count": 6,
   "id": "3de7dc76",
   "metadata": {},
   "outputs": [
    {
     "data": {
      "text/plain": [
       "(100000, 12)"
      ]
     },
     "execution_count": 6,
     "metadata": {},
     "output_type": "execute_result"
    }
   ],
   "source": [
    "passengers_before_cleaning.shape"
   ]
  },
  {
   "cell_type": "code",
   "execution_count": 7,
   "id": "76d08496",
   "metadata": {},
   "outputs": [
    {
     "data": {
      "text/plain": [
       "(100000, 12)"
      ]
     },
     "execution_count": 7,
     "metadata": {},
     "output_type": "execute_result"
    }
   ],
   "source": [
    "passengers_before_cleaning.drop_duplicates()\n",
    "passengers_before_cleaning.shape\n"
   ]
  },
  {
   "cell_type": "markdown",
   "id": "9e737966",
   "metadata": {},
   "source": [
    "Мы видим, дубликатов нет"
   ]
  },
  {
   "cell_type": "markdown",
   "id": "e2305352",
   "metadata": {},
   "source": [
    "Обработка пропусков. \n",
    "Тепловая карта пропущенных значений"
   ]
  },
  {
   "cell_type": "code",
   "execution_count": 8,
   "id": "123d43ac",
   "metadata": {},
   "outputs": [
    {
     "data": {
      "text/plain": [
       "<AxesSubplot:>"
      ]
     },
     "execution_count": 8,
     "metadata": {},
     "output_type": "execute_result"
    },
    {
     "data": {
      "image/png": "[encoded data removed]",
      "text/plain": [
       "<Figure size 432x288 with 2 Axes>"
      ]
     },
     "metadata": {
      "needs_background": "light"
     },
     "output_type": "display_data"
    }
   ],
   "source": [
    "\n",
    "colours = ['#000099', '#ffff00'] # yellow - NaN, blue - not NaN\n",
    "sns.heatmap(passengers_before_cleaning.isnull(), cmap=sns.color_palette(colours))"
   ]
  },
  {
   "cell_type": "markdown",
   "id": "40d55dee",
   "metadata": {},
   "source": [
    "We see feature 'Cabin' has a lot of NaN's. Уточним количество пропуском в процентном соотношении"
   ]
  },
  {
   "cell_type": "code",
   "execution_count": null,
   "id": "faffbfb6",
   "metadata": {},
   "outputs": [],
   "source": []
  },
  {
   "cell_type": "code",
   "execution_count": 9,
   "id": "31cca5b1",
   "metadata": {},
   "outputs": [
    {
     "data": {
      "text/plain": [
       "PassengerId     0.000\n",
       "Survived        0.000\n",
       "Pclass          0.000\n",
       "Name            0.000\n",
       "Sex             0.000\n",
       "Age             3.292\n",
       "SibSp           0.000\n",
       "Parch           0.000\n",
       "Ticket          4.623\n",
       "Fare            0.134\n",
       "Cabin          67.866\n",
       "Embarked        0.250\n",
       "dtype: float64"
      ]
     },
     "execution_count": 9,
     "metadata": {},
     "output_type": "execute_result"
    }
   ],
   "source": [
    "passengers_before_cleaning.isnull().mean()*100\n"
   ]
  },
  {
   "cell_type": "markdown",
   "id": "3547fe82",
   "metadata": {},
   "source": [
    "Пропуски в Cabin составляют почти 70%, этим признаком можно пренебречь\n",
    "?????????!!!!!!!!!!!!!!!!!!! Удалить столбец!!!!! или не надо??????????"
   ]
  },
  {
   "cell_type": "markdown",
   "id": "6ac67f92",
   "metadata": {},
   "source": [
    "Удалить строки с Nan в столбцах 'Embarked', 'Fare', это 0.384% от всех значений, и эти признаки не очень информативны"
   ]
  },
  {
   "cell_type": "code",
   "execution_count": 10,
   "id": "42b7b518",
   "metadata": {},
   "outputs": [
    {
     "data": {
      "text/html": [
       "<div>\n",
       "<style scoped>\n",
       "    .dataframe tbody tr th:only-of-type {\n",
       "        vertical-align: middle;\n",
       "    }\n",
       "\n",
       "    .dataframe tbody tr th {\n",
       "        vertical-align: top;\n",
       "    }\n",
       "\n",
       "    .dataframe thead th {\n",
       "        text-align: right;\n",
       "    }\n",
       "</style>\n",
       "<table border=\"1\" class=\"dataframe\">\n",
       "  <thead>\n",
       "    <tr style=\"text-align: right;\">\n",
       "      <th></th>\n",
       "      <th>PassengerId</th>\n",
       "      <th>Survived</th>\n",
       "      <th>Pclass</th>\n",
       "      <th>Name</th>\n",
       "      <th>Sex</th>\n",
       "      <th>Age</th>\n",
       "      <th>SibSp</th>\n",
       "      <th>Parch</th>\n",
       "      <th>Ticket</th>\n",
       "      <th>Fare</th>\n",
       "      <th>Cabin</th>\n",
       "      <th>Embarked</th>\n",
       "    </tr>\n",
       "  </thead>\n",
       "  <tbody>\n",
       "    <tr>\n",
       "      <th>0</th>\n",
       "      <td>0</td>\n",
       "      <td>1</td>\n",
       "      <td>1</td>\n",
       "      <td>Oconnor, Frankie</td>\n",
       "      <td>male</td>\n",
       "      <td>NaN</td>\n",
       "      <td>2</td>\n",
       "      <td>0</td>\n",
       "      <td>209245</td>\n",
       "      <td>27.14</td>\n",
       "      <td>C12239</td>\n",
       "      <td>S</td>\n",
       "    </tr>\n",
       "    <tr>\n",
       "      <th>1</th>\n",
       "      <td>1</td>\n",
       "      <td>0</td>\n",
       "      <td>3</td>\n",
       "      <td>Bryan, Drew</td>\n",
       "      <td>male</td>\n",
       "      <td>NaN</td>\n",
       "      <td>0</td>\n",
       "      <td>0</td>\n",
       "      <td>27323</td>\n",
       "      <td>13.35</td>\n",
       "      <td>NaN</td>\n",
       "      <td>S</td>\n",
       "    </tr>\n",
       "    <tr>\n",
       "      <th>2</th>\n",
       "      <td>2</td>\n",
       "      <td>0</td>\n",
       "      <td>3</td>\n",
       "      <td>Owens, Kenneth</td>\n",
       "      <td>male</td>\n",
       "      <td>0.33</td>\n",
       "      <td>1</td>\n",
       "      <td>2</td>\n",
       "      <td>CA 457703</td>\n",
       "      <td>71.29</td>\n",
       "      <td>NaN</td>\n",
       "      <td>S</td>\n",
       "    </tr>\n",
       "    <tr>\n",
       "      <th>3</th>\n",
       "      <td>3</td>\n",
       "      <td>0</td>\n",
       "      <td>3</td>\n",
       "      <td>Kramer, James</td>\n",
       "      <td>male</td>\n",
       "      <td>19.00</td>\n",
       "      <td>0</td>\n",
       "      <td>0</td>\n",
       "      <td>A. 10866</td>\n",
       "      <td>13.04</td>\n",
       "      <td>NaN</td>\n",
       "      <td>S</td>\n",
       "    </tr>\n",
       "    <tr>\n",
       "      <th>4</th>\n",
       "      <td>4</td>\n",
       "      <td>1</td>\n",
       "      <td>3</td>\n",
       "      <td>Bond, Michael</td>\n",
       "      <td>male</td>\n",
       "      <td>25.00</td>\n",
       "      <td>0</td>\n",
       "      <td>0</td>\n",
       "      <td>427635</td>\n",
       "      <td>7.76</td>\n",
       "      <td>NaN</td>\n",
       "      <td>S</td>\n",
       "    </tr>\n",
       "  </tbody>\n",
       "</table>\n",
       "</div>"
      ],
      "text/plain": [
       "   PassengerId  Survived  Pclass              Name   Sex    Age  SibSp  Parch  \\\n",
       "0            0         1       1  Oconnor, Frankie  male    NaN      2      0   \n",
       "1            1         0       3       Bryan, Drew  male    NaN      0      0   \n",
       "2            2         0       3    Owens, Kenneth  male   0.33      1      2   \n",
       "3            3         0       3     Kramer, James  male  19.00      0      0   \n",
       "4            4         1       3     Bond, Michael  male  25.00      0      0   \n",
       "\n",
       "      Ticket   Fare   Cabin Embarked  \n",
       "0     209245  27.14  C12239        S  \n",
       "1      27323  13.35     NaN        S  \n",
       "2  CA 457703  71.29     NaN        S  \n",
       "3   A. 10866  13.04     NaN        S  \n",
       "4     427635   7.76     NaN        S  "
      ]
     },
     "execution_count": 10,
     "metadata": {},
     "output_type": "execute_result"
    }
   ],
   "source": [
    "# null_values = pd.isnull(passenger_data[['Age', 'Ticket', 'Fare', 'Embarked']]).value_counts()\n",
    "# null_values\n",
    "passengers = passengers_before_cleaning.dropna(subset=['Embarked', 'Fare'])\n",
    "passengers.head()"
   ]
  },
  {
   "cell_type": "markdown",
   "id": "dc40cc56",
   "metadata": {},
   "source": [
    "Age заменим средним значением"
   ]
  },
  {
   "cell_type": "code",
   "execution_count": 11,
   "id": "94fd3eab",
   "metadata": {},
   "outputs": [
    {
     "name": "stderr",
     "output_type": "stream",
     "text": [
      "C:\\Users\\churi\\anaconda3\\lib\\site-packages\\pandas\\core\\generic.py:6392: SettingWithCopyWarning: \n",
      "A value is trying to be set on a copy of a slice from a DataFrame\n",
      "\n",
      "See the caveats in the documentation: https://pandas.pydata.org/pandas-docs/stable/user_guide/indexing.html#returning-a-view-versus-a-copy\n",
      "  return self._update_inplace(result)\n"
     ]
    }
   ],
   "source": [
    "age_mean = passengers['Age'].mean()\n",
    "passengers['Age'].fillna(value=age_mean, inplace=True)\n"
   ]
  },
  {
   "cell_type": "markdown",
   "id": "d9de84c2",
   "metadata": {},
   "source": [
    "Replace all NaN's of the column 'Ticket' with 'no ticket number' . Replace all NaN's of the column 'Cabin' with 'no cabin number'"
   ]
  },
  {
   "cell_type": "code",
   "execution_count": 12,
   "id": "aafe074c",
   "metadata": {},
   "outputs": [
    {
     "data": {
      "text/html": [
       "<div>\n",
       "<style scoped>\n",
       "    .dataframe tbody tr th:only-of-type {\n",
       "        vertical-align: middle;\n",
       "    }\n",
       "\n",
       "    .dataframe tbody tr th {\n",
       "        vertical-align: top;\n",
       "    }\n",
       "\n",
       "    .dataframe thead th {\n",
       "        text-align: right;\n",
       "    }\n",
       "</style>\n",
       "<table border=\"1\" class=\"dataframe\">\n",
       "  <thead>\n",
       "    <tr style=\"text-align: right;\">\n",
       "      <th></th>\n",
       "      <th>PassengerId</th>\n",
       "      <th>Survived</th>\n",
       "      <th>Pclass</th>\n",
       "      <th>Name</th>\n",
       "      <th>Sex</th>\n",
       "      <th>Age</th>\n",
       "      <th>SibSp</th>\n",
       "      <th>Parch</th>\n",
       "      <th>Ticket</th>\n",
       "      <th>Fare</th>\n",
       "      <th>Cabin</th>\n",
       "      <th>Embarked</th>\n",
       "    </tr>\n",
       "  </thead>\n",
       "  <tbody>\n",
       "    <tr>\n",
       "      <th>0</th>\n",
       "      <td>0</td>\n",
       "      <td>1</td>\n",
       "      <td>1</td>\n",
       "      <td>Oconnor, Frankie</td>\n",
       "      <td>male</td>\n",
       "      <td>38.352635</td>\n",
       "      <td>2</td>\n",
       "      <td>0</td>\n",
       "      <td>209245</td>\n",
       "      <td>27.14</td>\n",
       "      <td>C12239</td>\n",
       "      <td>S</td>\n",
       "    </tr>\n",
       "    <tr>\n",
       "      <th>1</th>\n",
       "      <td>1</td>\n",
       "      <td>0</td>\n",
       "      <td>3</td>\n",
       "      <td>Bryan, Drew</td>\n",
       "      <td>male</td>\n",
       "      <td>38.352635</td>\n",
       "      <td>0</td>\n",
       "      <td>0</td>\n",
       "      <td>27323</td>\n",
       "      <td>13.35</td>\n",
       "      <td>no cabin number</td>\n",
       "      <td>S</td>\n",
       "    </tr>\n",
       "    <tr>\n",
       "      <th>2</th>\n",
       "      <td>2</td>\n",
       "      <td>0</td>\n",
       "      <td>3</td>\n",
       "      <td>Owens, Kenneth</td>\n",
       "      <td>male</td>\n",
       "      <td>0.330000</td>\n",
       "      <td>1</td>\n",
       "      <td>2</td>\n",
       "      <td>CA 457703</td>\n",
       "      <td>71.29</td>\n",
       "      <td>no cabin number</td>\n",
       "      <td>S</td>\n",
       "    </tr>\n",
       "    <tr>\n",
       "      <th>3</th>\n",
       "      <td>3</td>\n",
       "      <td>0</td>\n",
       "      <td>3</td>\n",
       "      <td>Kramer, James</td>\n",
       "      <td>male</td>\n",
       "      <td>19.000000</td>\n",
       "      <td>0</td>\n",
       "      <td>0</td>\n",
       "      <td>A. 10866</td>\n",
       "      <td>13.04</td>\n",
       "      <td>no cabin number</td>\n",
       "      <td>S</td>\n",
       "    </tr>\n",
       "    <tr>\n",
       "      <th>4</th>\n",
       "      <td>4</td>\n",
       "      <td>1</td>\n",
       "      <td>3</td>\n",
       "      <td>Bond, Michael</td>\n",
       "      <td>male</td>\n",
       "      <td>25.000000</td>\n",
       "      <td>0</td>\n",
       "      <td>0</td>\n",
       "      <td>427635</td>\n",
       "      <td>7.76</td>\n",
       "      <td>no cabin number</td>\n",
       "      <td>S</td>\n",
       "    </tr>\n",
       "  </tbody>\n",
       "</table>\n",
       "</div>"
      ],
      "text/plain": [
       "   PassengerId  Survived  Pclass              Name   Sex        Age  SibSp  \\\n",
       "0            0         1       1  Oconnor, Frankie  male  38.352635      2   \n",
       "1            1         0       3       Bryan, Drew  male  38.352635      0   \n",
       "2            2         0       3    Owens, Kenneth  male   0.330000      1   \n",
       "3            3         0       3     Kramer, James  male  19.000000      0   \n",
       "4            4         1       3     Bond, Michael  male  25.000000      0   \n",
       "\n",
       "   Parch     Ticket   Fare            Cabin Embarked  \n",
       "0      0     209245  27.14           C12239        S  \n",
       "1      0      27323  13.35  no cabin number        S  \n",
       "2      2  CA 457703  71.29  no cabin number        S  \n",
       "3      0   A. 10866  13.04  no cabin number        S  \n",
       "4      0     427635   7.76  no cabin number        S  "
      ]
     },
     "execution_count": 12,
     "metadata": {},
     "output_type": "execute_result"
    }
   ],
   "source": [
    "\n",
    "passengers.fillna({'Ticket': 'no ticket number', 'Cabin': 'no cabin number'}, inplace=True)\n",
    "passengers.head()\n",
    "\n",
    "# df[1].fillna(0, inplace=True)\n",
    "# df.fillna({1:0}, inplace=True)\n",
    "# replacement= {'column_A': 0, 'column_B': -999, 'column_C': -99999}  df.fillna(value=replacement)\n",
    "# df.loc[df['column_name'].isnull(), 'column_name'] = 0"
   ]
  },
  {
   "cell_type": "markdown",
   "id": "14f6b428",
   "metadata": {},
   "source": []
  },
  {
   "cell_type": "code",
   "execution_count": 13,
   "id": "252df53d",
   "metadata": {},
   "outputs": [
    {
     "data": {
      "text/plain": [
       "PassengerId    0.0\n",
       "Survived       0.0\n",
       "Pclass         0.0\n",
       "Name           0.0\n",
       "Sex            0.0\n",
       "Age            0.0\n",
       "SibSp          0.0\n",
       "Parch          0.0\n",
       "Ticket         0.0\n",
       "Fare           0.0\n",
       "Cabin          0.0\n",
       "Embarked       0.0\n",
       "dtype: float64"
      ]
     },
     "execution_count": 13,
     "metadata": {},
     "output_type": "execute_result"
    }
   ],
   "source": [
    "passengers.isnull().mean()*100"
   ]
  },
  {
   "cell_type": "markdown",
   "id": "0115dfc0",
   "metadata": {},
   "source": [
    "Now we don't have any NAN's\n"
   ]
  },
  {
   "cell_type": "markdown",
   "id": "260c56c8",
   "metadata": {},
   "source": [
    "Обработаем категориальные признаки. "
   ]
  },
  {
   "cell_type": "code",
   "execution_count": 14,
   "id": "1da4591e",
   "metadata": {},
   "outputs": [
    {
     "data": {
      "text/plain": [
       "male      55920\n",
       "female    43697\n",
       "Name: Sex, dtype: int64"
      ]
     },
     "execution_count": 14,
     "metadata": {},
     "output_type": "execute_result"
    }
   ],
   "source": [
    "\n",
    "passengers['Sex'].value_counts()\n"
   ]
  },
  {
   "cell_type": "code",
   "execution_count": 15,
   "id": "e07ce48f",
   "metadata": {},
   "outputs": [
    {
     "data": {
      "text/plain": [
       "S    72047\n",
       "C    22154\n",
       "Q     5416\n",
       "Name: Embarked, dtype: int64"
      ]
     },
     "execution_count": 15,
     "metadata": {},
     "output_type": "execute_result"
    },
    {
     "data": {
      "image/png": "[encoded data removed]",
      "text/plain": [
       "<Figure size 432x288 with 1 Axes>"
      ]
     },
     "metadata": {
      "needs_background": "light"
     },
     "output_type": "display_data"
    }
   ],
   "source": [
    "passengers['Embarked'].value_counts().plot.bar()\n",
    "passengers['Embarked'].value_counts()"
   ]
  },
  {
   "cell_type": "markdown",
   "id": "8dc2a31a",
   "metadata": {},
   "source": [
    "Нас интересуют столбцы:\n",
    "    Sex (принимает два варианта значений, распределение значений примерно одинаковое, что делает этот признак информативным), Embarked (три варианта).\n",
    "Признаки Name, Ticket, Cabin не меняем"
   ]
  },
  {
   "cell_type": "markdown",
   "id": "18447685",
   "metadata": {},
   "source": [
    "Используем One Hot Encoding"
   ]
  },
  {
   "cell_type": "code",
   "execution_count": 17,
   "id": "0993313f",
   "metadata": {},
   "outputs": [
    {
     "data": {
      "text/html": [
       "<div>\n",
       "<style scoped>\n",
       "    .dataframe tbody tr th:only-of-type {\n",
       "        vertical-align: middle;\n",
       "    }\n",
       "\n",
       "    .dataframe tbody tr th {\n",
       "        vertical-align: top;\n",
       "    }\n",
       "\n",
       "    .dataframe thead th {\n",
       "        text-align: right;\n",
       "    }\n",
       "</style>\n",
       "<table border=\"1\" class=\"dataframe\">\n",
       "  <thead>\n",
       "    <tr style=\"text-align: right;\">\n",
       "      <th></th>\n",
       "      <th>PassengerId</th>\n",
       "      <th>Survived</th>\n",
       "      <th>Pclass</th>\n",
       "      <th>Name</th>\n",
       "      <th>Age</th>\n",
       "      <th>SibSp</th>\n",
       "      <th>Parch</th>\n",
       "      <th>Ticket</th>\n",
       "      <th>Fare</th>\n",
       "      <th>Cabin</th>\n",
       "      <th>Sex_female</th>\n",
       "      <th>Sex_male</th>\n",
       "      <th>Embarked_C</th>\n",
       "      <th>Embarked_Q</th>\n",
       "      <th>Embarked_S</th>\n",
       "    </tr>\n",
       "  </thead>\n",
       "  <tbody>\n",
       "    <tr>\n",
       "      <th>0</th>\n",
       "      <td>0</td>\n",
       "      <td>1</td>\n",
       "      <td>1</td>\n",
       "      <td>Oconnor, Frankie</td>\n",
       "      <td>38.352635</td>\n",
       "      <td>2</td>\n",
       "      <td>0</td>\n",
       "      <td>209245</td>\n",
       "      <td>27.14</td>\n",
       "      <td>C12239</td>\n",
       "      <td>0</td>\n",
       "      <td>1</td>\n",
       "      <td>0</td>\n",
       "      <td>0</td>\n",
       "      <td>1</td>\n",
       "    </tr>\n",
       "    <tr>\n",
       "      <th>1</th>\n",
       "      <td>1</td>\n",
       "      <td>0</td>\n",
       "      <td>3</td>\n",
       "      <td>Bryan, Drew</td>\n",
       "      <td>38.352635</td>\n",
       "      <td>0</td>\n",
       "      <td>0</td>\n",
       "      <td>27323</td>\n",
       "      <td>13.35</td>\n",
       "      <td>no cabin number</td>\n",
       "      <td>0</td>\n",
       "      <td>1</td>\n",
       "      <td>0</td>\n",
       "      <td>0</td>\n",
       "      <td>1</td>\n",
       "    </tr>\n",
       "    <tr>\n",
       "      <th>2</th>\n",
       "      <td>2</td>\n",
       "      <td>0</td>\n",
       "      <td>3</td>\n",
       "      <td>Owens, Kenneth</td>\n",
       "      <td>0.330000</td>\n",
       "      <td>1</td>\n",
       "      <td>2</td>\n",
       "      <td>CA 457703</td>\n",
       "      <td>71.29</td>\n",
       "      <td>no cabin number</td>\n",
       "      <td>0</td>\n",
       "      <td>1</td>\n",
       "      <td>0</td>\n",
       "      <td>0</td>\n",
       "      <td>1</td>\n",
       "    </tr>\n",
       "    <tr>\n",
       "      <th>3</th>\n",
       "      <td>3</td>\n",
       "      <td>0</td>\n",
       "      <td>3</td>\n",
       "      <td>Kramer, James</td>\n",
       "      <td>19.000000</td>\n",
       "      <td>0</td>\n",
       "      <td>0</td>\n",
       "      <td>A. 10866</td>\n",
       "      <td>13.04</td>\n",
       "      <td>no cabin number</td>\n",
       "      <td>0</td>\n",
       "      <td>1</td>\n",
       "      <td>0</td>\n",
       "      <td>0</td>\n",
       "      <td>1</td>\n",
       "    </tr>\n",
       "    <tr>\n",
       "      <th>4</th>\n",
       "      <td>4</td>\n",
       "      <td>1</td>\n",
       "      <td>3</td>\n",
       "      <td>Bond, Michael</td>\n",
       "      <td>25.000000</td>\n",
       "      <td>0</td>\n",
       "      <td>0</td>\n",
       "      <td>427635</td>\n",
       "      <td>7.76</td>\n",
       "      <td>no cabin number</td>\n",
       "      <td>0</td>\n",
       "      <td>1</td>\n",
       "      <td>0</td>\n",
       "      <td>0</td>\n",
       "      <td>1</td>\n",
       "    </tr>\n",
       "  </tbody>\n",
       "</table>\n",
       "</div>"
      ],
      "text/plain": [
       "   PassengerId  Survived  Pclass              Name        Age  SibSp  Parch  \\\n",
       "0            0         1       1  Oconnor, Frankie  38.352635      2      0   \n",
       "1            1         0       3       Bryan, Drew  38.352635      0      0   \n",
       "2            2         0       3    Owens, Kenneth   0.330000      1      2   \n",
       "3            3         0       3     Kramer, James  19.000000      0      0   \n",
       "4            4         1       3     Bond, Michael  25.000000      0      0   \n",
       "\n",
       "      Ticket   Fare            Cabin  Sex_female  Sex_male  Embarked_C  \\\n",
       "0     209245  27.14           C12239           0         1           0   \n",
       "1      27323  13.35  no cabin number           0         1           0   \n",
       "2  CA 457703  71.29  no cabin number           0         1           0   \n",
       "3   A. 10866  13.04  no cabin number           0         1           0   \n",
       "4     427635   7.76  no cabin number           0         1           0   \n",
       "\n",
       "   Embarked_Q  Embarked_S  \n",
       "0           0           1  \n",
       "1           0           1  \n",
       "2           0           1  \n",
       "3           0           1  \n",
       "4           0           1  "
      ]
     },
     "execution_count": 17,
     "metadata": {},
     "output_type": "execute_result"
    }
   ],
   "source": [
    "pd.get_dummies(passengers, columns=['Sex', 'Embarked']).head()"
   ]
  },
  {
   "cell_type": "markdown",
   "id": "ef643889",
   "metadata": {},
   "source": [
    "Проанализируем выбросы."
   ]
  },
  {
   "cell_type": "markdown",
   "id": "213928e9",
   "metadata": {},
   "source": [
    "столбец 'Survived' должен принимать значение 1 или 2, Pclass - значение 1, 2, 3. Проверим это"
   ]
  },
  {
   "cell_type": "code",
   "execution_count": 18,
   "id": "cff46604",
   "metadata": {},
   "outputs": [
    {
     "data": {
      "text/plain": [
       "0    57025\n",
       "1    42592\n",
       "Name: Survived, dtype: int64"
      ]
     },
     "execution_count": 18,
     "metadata": {},
     "output_type": "execute_result"
    }
   ],
   "source": [
    "passengers['Survived'].value_counts()"
   ]
  },
  {
   "cell_type": "code",
   "execution_count": 19,
   "id": "ed67e4fc",
   "metadata": {},
   "outputs": [
    {
     "data": {
      "text/plain": [
       "3    40860\n",
       "1    30189\n",
       "2    28568\n",
       "Name: Pclass, dtype: int64"
      ]
     },
     "execution_count": 19,
     "metadata": {},
     "output_type": "execute_result"
    }
   ],
   "source": [
    "passengers['Pclass'].value_counts()"
   ]
  },
  {
   "cell_type": "markdown",
   "id": "54d0238c",
   "metadata": {},
   "source": [
    "Так же мы видим, что значения целевой переменной распределены примерно поровну, что делает ее хорошей переменной для использования в ??????????????????? в будущем"
   ]
  },
  {
   "cell_type": "markdown",
   "id": "33174f90",
   "metadata": {},
   "source": [
    "Для численных признаков построим гисторгамму или boxplot"
   ]
  },
  {
   "cell_type": "code",
   "execution_count": 20,
   "id": "3e07eb59",
   "metadata": {},
   "outputs": [
    {
     "data": {
      "text/plain": [
       "count    99617.000000\n",
       "mean        38.352635\n",
       "std         18.010100\n",
       "min          0.080000\n",
       "25%         25.000000\n",
       "50%         38.352635\n",
       "75%         53.000000\n",
       "max         87.000000\n",
       "Name: Age, dtype: float64"
      ]
     },
     "execution_count": 20,
     "metadata": {},
     "output_type": "execute_result"
    }
   ],
   "source": [
    "# passengers['Age'].hist(bins=100)\n",
    "# passengers.boxplot(column=['Age'])\n",
    "\n",
    "passengers['Age'].describe()"
   ]
  },
  {
   "cell_type": "markdown",
   "id": "8e72b83b",
   "metadata": {},
   "source": [
    "Мы видим, что возраст меняется от 0,08 до 87 лет, что может соответствовать действительности"
   ]
  },
  {
   "cell_type": "markdown",
   "id": "554fff47",
   "metadata": {},
   "source": [
    "Анализируем наличие выбросов стоимость билета для разных классов"
   ]
  },
  {
   "cell_type": "code",
   "execution_count": null,
   "id": "4395502f",
   "metadata": {},
   "outputs": [],
   "source": []
  },
  {
   "cell_type": "code",
   "execution_count": null,
   "id": "2df8c576",
   "metadata": {},
   "outputs": [],
   "source": []
  },
  {
   "cell_type": "code",
   "execution_count": null,
   "id": "bc9b5478",
   "metadata": {},
   "outputs": [],
   "source": []
  },
  {
   "cell_type": "code",
   "execution_count": null,
   "id": "b16307de",
   "metadata": {},
   "outputs": [],
   "source": []
  },
  {
   "cell_type": "markdown",
   "id": "5408eca5",
   "metadata": {},
   "source": [
    "# Data exploration"
   ]
  },
  {
   "cell_type": "code",
   "execution_count": 21,
   "id": "2417286d",
   "metadata": {},
   "outputs": [
    {
     "data": {
      "text/plain": [
       "<AxesSubplot:>"
      ]
     },
     "execution_count": 21,
     "metadata": {},
     "output_type": "execute_result"
    },
    {
     "data": {
      "image/png": "[encoded data removed]",
      "text/plain": [
       "<Figure size 432x288 with 1 Axes>"
      ]
     },
     "metadata": {
      "needs_background": "light"
     },
     "output_type": "display_data"
    }
   ],
   "source": [
    "passengers['Survived'].value_counts().plot.bar()\n"
   ]
  },
  {
   "cell_type": "markdown",
   "id": "da1698ce",
   "metadata": {},
   "source": [
    "Целевая переменная 'Survived' хорошая, т.к.распределение примерно 50 на 50 "
   ]
  },
  {
   "cell_type": "code",
   "execution_count": 23,
   "id": "8bbfa516",
   "metadata": {},
   "outputs": [
    {
     "data": {
      "text/plain": [
       "<AxesSubplot:>"
      ]
     },
     "execution_count": 23,
     "metadata": {},
     "output_type": "execute_result"
    },
    {
     "data": {
      "image/png": "[encoded data removed]",
      "text/plain": [
       "<Figure size 432x288 with 1 Axes>"
      ]
     },
     "metadata": {
      "needs_background": "light"
     },
     "output_type": "display_data"
    }
   ],
   "source": [
    "passengers['Sex'].value_counts().plot.bar()"
   ]
  },
  {
   "cell_type": "markdown",
   "id": "852d126b",
   "metadata": {},
   "source": [
    "Признак 'Sex' является существенным признаком, т.к. распределение примерно 50 на 50"
   ]
  },
  {
   "cell_type": "code",
   "execution_count": 24,
   "id": "4eaca130",
   "metadata": {},
   "outputs": [
    {
     "data": {
      "text/plain": [
       "<AxesSubplot:>"
      ]
     },
     "execution_count": 24,
     "metadata": {},
     "output_type": "execute_result"
    },
    {
     "data": {
      "image/png": "[encoded data removed]",
      "text/plain": [
       "<Figure size 432x288 with 1 Axes>"
      ]
     },
     "metadata": {
      "needs_background": "light"
     },
     "output_type": "display_data"
    }
   ],
   "source": [
    "passengers['Pclass'].value_counts().plot.bar()"
   ]
  },
  {
   "cell_type": "markdown",
   "id": "0d35994c",
   "metadata": {},
   "source": [
    "Признак 'Pclass' является существенным признаком, т.к. распределение примерно равномерное"
   ]
  },
  {
   "cell_type": "code",
   "execution_count": null,
   "id": "cf35bf82",
   "metadata": {},
   "outputs": [],
   "source": []
  },
  {
   "cell_type": "code",
   "execution_count": null,
   "id": "78fb7189",
   "metadata": {},
   "outputs": [],
   "source": []
  },
  {
   "cell_type": "code",
   "execution_count": null,
   "id": "1c0806d1",
   "metadata": {},
   "outputs": [],
   "source": []
  },
  {
   "cell_type": "code",
   "execution_count": null,
   "id": "00be9156",
   "metadata": {},
   "outputs": [],
   "source": []
  },
  {
   "cell_type": "code",
   "execution_count": null,
   "id": "0e20e23e",
   "metadata": {},
   "outputs": [],
   "source": []
  },
  {
   "cell_type": "markdown",
   "id": "034945c8",
   "metadata": {},
   "source": [
    "# Summary"
   ]
  },
  {
   "cell_type": "markdown",
   "id": "b6d200a6",
   "metadata": {},
   "source": [
    "1. Целевая переменная 'Survived' хорошая, т.к.распределение примерно 50 на 50 ??????????где я это написала\n",
    "2. Признак 'Sex' является существенным признаком, т.к. распределение примерно 50 на 50\n",
    "3. Признак 'Pclass' является существенным признаком, т.к. распределение примерно равномерное\n"
   ]
  },
  {
   "cell_type": "code",
   "execution_count": null,
   "id": "8ece78a0",
   "metadata": {},
   "outputs": [],
   "source": []
  }
 ],
 "metadata": {
  "kernelspec": {
   "display_name": "Python 3 (ipykernel)",
   "language": "python",
   "name": "python3"
  },
  "language_info": {
   "codemirror_mode": {
    "name": "ipython",
    "version": 3
   },
   "file_extension": ".py",
   "mimetype": "text/x-python",
   "name": "python",
   "nbconvert_exporter": "python",
   "pygments_lexer": "ipython3",
   "version": "3.9.7"
  },
  "toc": {
   "base_numbering": 1,
   "nav_menu": {},
   "number_sections": true,
   "sideBar": true,
   "skip_h1_title": false,
   "title_cell": "Table of Contents",
   "title_sidebar": "Contents",
   "toc_cell": false,
   "toc_position": {},
   "toc_section_display": true,
   "toc_window_display": false
  }
 },
 "nbformat": 4,
 "nbformat_minor": 5
}
